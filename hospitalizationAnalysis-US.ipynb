{
 "cells": [
  {
   "cell_type": "code",
   "execution_count": 1,
   "metadata": {},
   "outputs": [],
   "source": [
    "# Data taken from covidtracking.com"
   ]
  },
  {
   "cell_type": "code",
   "execution_count": 2,
   "metadata": {},
   "outputs": [],
   "source": [
    "import os\n",
    "import pandas as pd\n",
    "import matplotlib.pyplot as plt\n",
    "import seaborn as sns\n",
    "import numpy as np\n",
    "from statsmodels.tsa.arima_model import ARIMA\n",
    "from statsmodels.tsa.statespace.sarimax import SARIMAX\n",
    "import warnings\n",
    "from datetime import datetime, timedelta\n",
    "from ipywidgets import interact\n",
    "import itertools\n",
    "from tabulate import tabulate\n",
    "import plotly.express as px\n",
    "\n",
    "import statsmodels.formula.api as smf\n",
    "\n",
    "# Library for diagnostic plots\n",
    "import diagnosticPlotsForLinearRegression_likeR as dpR\n",
    "\n",
    "# This is not recommended but I am doing this to suppress warnings from SARIMAX\n",
    "warnings.simplefilter('ignore')"
   ]
  },
  {
   "cell_type": "code",
   "execution_count": 3,
   "metadata": {},
   "outputs": [
    {
     "data": {
      "text/html": [
       "<div>\n",
       "<style scoped>\n",
       "    .dataframe tbody tr th:only-of-type {\n",
       "        vertical-align: middle;\n",
       "    }\n",
       "\n",
       "    .dataframe tbody tr th {\n",
       "        vertical-align: top;\n",
       "    }\n",
       "\n",
       "    .dataframe thead th {\n",
       "        text-align: right;\n",
       "    }\n",
       "</style>\n",
       "<table border=\"1\" class=\"dataframe\">\n",
       "  <thead>\n",
       "    <tr style=\"text-align: right;\">\n",
       "      <th></th>\n",
       "      <th>state</th>\n",
       "      <th>positive</th>\n",
       "      <th>positiveScore</th>\n",
       "      <th>negativeScore</th>\n",
       "      <th>negativeRegularScore</th>\n",
       "      <th>commercialScore</th>\n",
       "      <th>grade</th>\n",
       "      <th>score</th>\n",
       "      <th>notes</th>\n",
       "      <th>dataQualityGrade</th>\n",
       "      <th>...</th>\n",
       "      <th>checkTimeEt</th>\n",
       "      <th>death</th>\n",
       "      <th>hospitalized</th>\n",
       "      <th>total</th>\n",
       "      <th>totalTestResults</th>\n",
       "      <th>posNeg</th>\n",
       "      <th>fips</th>\n",
       "      <th>dateModified</th>\n",
       "      <th>dateChecked</th>\n",
       "      <th>hash</th>\n",
       "    </tr>\n",
       "  </thead>\n",
       "  <tbody>\n",
       "    <tr>\n",
       "      <td>0</td>\n",
       "      <td>AK</td>\n",
       "      <td>399</td>\n",
       "      <td>1.0</td>\n",
       "      <td>1.0</td>\n",
       "      <td>1.0</td>\n",
       "      <td>1.0</td>\n",
       "      <td>A</td>\n",
       "      <td>4.0</td>\n",
       "      <td>Please stop using the \"total\" field. Use \"tota...</td>\n",
       "      <td>C</td>\n",
       "      <td>...</td>\n",
       "      <td>5/19 15:30</td>\n",
       "      <td>10</td>\n",
       "      <td>NaN</td>\n",
       "      <td>36380</td>\n",
       "      <td>36380</td>\n",
       "      <td>36380</td>\n",
       "      <td>2</td>\n",
       "      <td>2020-05-19T04:00:00Z</td>\n",
       "      <td>2020-05-19T19:30:00Z</td>\n",
       "      <td>5830c4e6b2bbfb7eb4f853751492e6af76e1d423</td>\n",
       "    </tr>\n",
       "    <tr>\n",
       "      <td>1</td>\n",
       "      <td>AL</td>\n",
       "      <td>12376</td>\n",
       "      <td>1.0</td>\n",
       "      <td>1.0</td>\n",
       "      <td>0.0</td>\n",
       "      <td>1.0</td>\n",
       "      <td>B</td>\n",
       "      <td>3.0</td>\n",
       "      <td>Please stop using the \"total\" field. Use \"tota...</td>\n",
       "      <td>B</td>\n",
       "      <td>...</td>\n",
       "      <td>5/19 15:38</td>\n",
       "      <td>504</td>\n",
       "      <td>1453.0</td>\n",
       "      <td>157566</td>\n",
       "      <td>157566</td>\n",
       "      <td>157566</td>\n",
       "      <td>1</td>\n",
       "      <td>2020-05-18T04:00:00Z</td>\n",
       "      <td>2020-05-19T19:38:00Z</td>\n",
       "      <td>a9f818a90c2d692fb9046e2b0c0b3a05142746d4</td>\n",
       "    </tr>\n",
       "    <tr>\n",
       "      <td>2</td>\n",
       "      <td>AR</td>\n",
       "      <td>4923</td>\n",
       "      <td>1.0</td>\n",
       "      <td>1.0</td>\n",
       "      <td>1.0</td>\n",
       "      <td>1.0</td>\n",
       "      <td>A</td>\n",
       "      <td>4.0</td>\n",
       "      <td>Please stop using the \"total\" field. Use \"tota...</td>\n",
       "      <td>A</td>\n",
       "      <td>...</td>\n",
       "      <td>5/19 17:52</td>\n",
       "      <td>102</td>\n",
       "      <td>535.0</td>\n",
       "      <td>93701</td>\n",
       "      <td>93701</td>\n",
       "      <td>93701</td>\n",
       "      <td>5</td>\n",
       "      <td>2020-05-19T04:00:00Z</td>\n",
       "      <td>2020-05-19T21:52:00Z</td>\n",
       "      <td>34dd9ef35ebf02a037633ceb414e739a68b38e14</td>\n",
       "    </tr>\n",
       "    <tr>\n",
       "      <td>3</td>\n",
       "      <td>AZ</td>\n",
       "      <td>14566</td>\n",
       "      <td>1.0</td>\n",
       "      <td>1.0</td>\n",
       "      <td>0.0</td>\n",
       "      <td>1.0</td>\n",
       "      <td>B</td>\n",
       "      <td>3.0</td>\n",
       "      <td>Please stop using the \"total\" field. Use \"tota...</td>\n",
       "      <td>A+</td>\n",
       "      <td>...</td>\n",
       "      <td>5/19 14:16</td>\n",
       "      <td>704</td>\n",
       "      <td>1746.0</td>\n",
       "      <td>161571</td>\n",
       "      <td>161571</td>\n",
       "      <td>161571</td>\n",
       "      <td>4</td>\n",
       "      <td>2020-05-19T04:00:00Z</td>\n",
       "      <td>2020-05-19T18:16:00Z</td>\n",
       "      <td>b3dc6933db82188e13c7a386daa03fd7a8082ba4</td>\n",
       "    </tr>\n",
       "    <tr>\n",
       "      <td>4</td>\n",
       "      <td>CA</td>\n",
       "      <td>81795</td>\n",
       "      <td>1.0</td>\n",
       "      <td>1.0</td>\n",
       "      <td>0.0</td>\n",
       "      <td>1.0</td>\n",
       "      <td>B</td>\n",
       "      <td>3.0</td>\n",
       "      <td>Please stop using the \"total\" field. Use \"tota...</td>\n",
       "      <td>B</td>\n",
       "      <td>...</td>\n",
       "      <td>5/19 14:18</td>\n",
       "      <td>3334</td>\n",
       "      <td>NaN</td>\n",
       "      <td>1339316</td>\n",
       "      <td>1339316</td>\n",
       "      <td>1339316</td>\n",
       "      <td>6</td>\n",
       "      <td>2020-05-19T04:00:00Z</td>\n",
       "      <td>2020-05-19T18:18:00Z</td>\n",
       "      <td>04a22035801e51eae2be36696d81972961f36629</td>\n",
       "    </tr>\n",
       "    <tr>\n",
       "      <td>5</td>\n",
       "      <td>CO</td>\n",
       "      <td>22202</td>\n",
       "      <td>1.0</td>\n",
       "      <td>1.0</td>\n",
       "      <td>1.0</td>\n",
       "      <td>1.0</td>\n",
       "      <td>A</td>\n",
       "      <td>4.0</td>\n",
       "      <td>Please stop using the \"total\" field. Use \"tota...</td>\n",
       "      <td>A</td>\n",
       "      <td>...</td>\n",
       "      <td>5/19 15:54</td>\n",
       "      <td>1224</td>\n",
       "      <td>3899.0</td>\n",
       "      <td>131333</td>\n",
       "      <td>131333</td>\n",
       "      <td>131333</td>\n",
       "      <td>8</td>\n",
       "      <td>2020-05-19T04:00:00Z</td>\n",
       "      <td>2020-05-19T19:54:00Z</td>\n",
       "      <td>679927a4c20eabcd73e9fd22475bb82dec6eee29</td>\n",
       "    </tr>\n",
       "    <tr>\n",
       "      <td>6</td>\n",
       "      <td>CT</td>\n",
       "      <td>38430</td>\n",
       "      <td>1.0</td>\n",
       "      <td>1.0</td>\n",
       "      <td>1.0</td>\n",
       "      <td>1.0</td>\n",
       "      <td>A</td>\n",
       "      <td>4.0</td>\n",
       "      <td>Please stop using the \"total\" field. Use \"tota...</td>\n",
       "      <td>B</td>\n",
       "      <td>...</td>\n",
       "      <td>5/19 17:32</td>\n",
       "      <td>3472</td>\n",
       "      <td>10946.0</td>\n",
       "      <td>185520</td>\n",
       "      <td>185520</td>\n",
       "      <td>185520</td>\n",
       "      <td>9</td>\n",
       "      <td>2020-05-18T23:00:00Z</td>\n",
       "      <td>2020-05-19T21:32:00Z</td>\n",
       "      <td>3529ec042de400e4d51e8f31b16df6f6401d1ce1</td>\n",
       "    </tr>\n",
       "    <tr>\n",
       "      <td>7</td>\n",
       "      <td>DC</td>\n",
       "      <td>7434</td>\n",
       "      <td>1.0</td>\n",
       "      <td>1.0</td>\n",
       "      <td>1.0</td>\n",
       "      <td>1.0</td>\n",
       "      <td>A</td>\n",
       "      <td>4.0</td>\n",
       "      <td>Please stop using the \"total\" field. Use \"tota...</td>\n",
       "      <td>A</td>\n",
       "      <td>...</td>\n",
       "      <td>5/19 14:46</td>\n",
       "      <td>400</td>\n",
       "      <td>NaN</td>\n",
       "      <td>39374</td>\n",
       "      <td>39374</td>\n",
       "      <td>39374</td>\n",
       "      <td>11</td>\n",
       "      <td>2020-05-18T04:00:00Z</td>\n",
       "      <td>2020-05-19T18:46:00Z</td>\n",
       "      <td>9b088e4de09e3ff7a4605d40168fb05f02c15a6f</td>\n",
       "    </tr>\n",
       "    <tr>\n",
       "      <td>8</td>\n",
       "      <td>DE</td>\n",
       "      <td>8037</td>\n",
       "      <td>1.0</td>\n",
       "      <td>1.0</td>\n",
       "      <td>1.0</td>\n",
       "      <td>1.0</td>\n",
       "      <td>A</td>\n",
       "      <td>4.0</td>\n",
       "      <td>Please stop using the \"total\" field. Use \"tota...</td>\n",
       "      <td>B</td>\n",
       "      <td>...</td>\n",
       "      <td>5/19 16:15</td>\n",
       "      <td>304</td>\n",
       "      <td>NaN</td>\n",
       "      <td>44132</td>\n",
       "      <td>44132</td>\n",
       "      <td>44132</td>\n",
       "      <td>10</td>\n",
       "      <td>2020-05-18T22:00:00Z</td>\n",
       "      <td>2020-05-19T20:15:00Z</td>\n",
       "      <td>0bc4e38d9f780e86ff888c4043303662ad31876f</td>\n",
       "    </tr>\n",
       "    <tr>\n",
       "      <td>9</td>\n",
       "      <td>FL</td>\n",
       "      <td>46944</td>\n",
       "      <td>1.0</td>\n",
       "      <td>1.0</td>\n",
       "      <td>1.0</td>\n",
       "      <td>1.0</td>\n",
       "      <td>A</td>\n",
       "      <td>4.0</td>\n",
       "      <td>Please stop using the \"total\" field. Use \"tota...</td>\n",
       "      <td>A+</td>\n",
       "      <td>...</td>\n",
       "      <td>5/19 15:00</td>\n",
       "      <td>2129</td>\n",
       "      <td>8744.0</td>\n",
       "      <td>717224</td>\n",
       "      <td>715855</td>\n",
       "      <td>715855</td>\n",
       "      <td>12</td>\n",
       "      <td>2020-05-19T14:31:00Z</td>\n",
       "      <td>2020-05-19T19:00:00Z</td>\n",
       "      <td>7d125984db41a3923627376c6cf0573c6907494d</td>\n",
       "    </tr>\n",
       "    <tr>\n",
       "      <td>10</td>\n",
       "      <td>GA</td>\n",
       "      <td>38721</td>\n",
       "      <td>1.0</td>\n",
       "      <td>1.0</td>\n",
       "      <td>1.0</td>\n",
       "      <td>1.0</td>\n",
       "      <td>A</td>\n",
       "      <td>4.0</td>\n",
       "      <td>Please stop using the \"total\" field. Use \"tota...</td>\n",
       "      <td>A</td>\n",
       "      <td>...</td>\n",
       "      <td>5/19 16:43</td>\n",
       "      <td>1664</td>\n",
       "      <td>7027.0</td>\n",
       "      <td>378156</td>\n",
       "      <td>378156</td>\n",
       "      <td>378156</td>\n",
       "      <td>13</td>\n",
       "      <td>2020-05-19T17:00:00Z</td>\n",
       "      <td>2020-05-19T20:43:00Z</td>\n",
       "      <td>3b12a60e45ee8e8a5d6a86b1e73a3ad7b9486547</td>\n",
       "    </tr>\n",
       "    <tr>\n",
       "      <td>11</td>\n",
       "      <td>HI</td>\n",
       "      <td>640</td>\n",
       "      <td>1.0</td>\n",
       "      <td>1.0</td>\n",
       "      <td>1.0</td>\n",
       "      <td>1.0</td>\n",
       "      <td>A</td>\n",
       "      <td>4.0</td>\n",
       "      <td>Please stop using the \"total\" field. Use \"tota...</td>\n",
       "      <td>C</td>\n",
       "      <td>...</td>\n",
       "      <td>5/19 17:22</td>\n",
       "      <td>17</td>\n",
       "      <td>82.0</td>\n",
       "      <td>45023</td>\n",
       "      <td>45023</td>\n",
       "      <td>45023</td>\n",
       "      <td>15</td>\n",
       "      <td>2020-05-17T04:00:00Z</td>\n",
       "      <td>2020-05-19T21:22:00Z</td>\n",
       "      <td>d06f2fa9db94776d7897f225e886dd7e4c9cf393</td>\n",
       "    </tr>\n",
       "    <tr>\n",
       "      <td>12</td>\n",
       "      <td>IA</td>\n",
       "      <td>15349</td>\n",
       "      <td>1.0</td>\n",
       "      <td>1.0</td>\n",
       "      <td>1.0</td>\n",
       "      <td>1.0</td>\n",
       "      <td>A</td>\n",
       "      <td>4.0</td>\n",
       "      <td>Please stop using the \"total\" field. Use \"tota...</td>\n",
       "      <td>A+</td>\n",
       "      <td>...</td>\n",
       "      <td>5/19 17:44</td>\n",
       "      <td>372</td>\n",
       "      <td>NaN</td>\n",
       "      <td>107648</td>\n",
       "      <td>107648</td>\n",
       "      <td>107648</td>\n",
       "      <td>19</td>\n",
       "      <td>2020-05-19T04:00:00Z</td>\n",
       "      <td>2020-05-19T21:44:00Z</td>\n",
       "      <td>1fae38111abc50ab36102e080421c75e697af894</td>\n",
       "    </tr>\n",
       "    <tr>\n",
       "      <td>13</td>\n",
       "      <td>ID</td>\n",
       "      <td>2455</td>\n",
       "      <td>1.0</td>\n",
       "      <td>1.0</td>\n",
       "      <td>1.0</td>\n",
       "      <td>1.0</td>\n",
       "      <td>A</td>\n",
       "      <td>4.0</td>\n",
       "      <td>Please stop using the \"total\" field. Use \"tota...</td>\n",
       "      <td>B</td>\n",
       "      <td>...</td>\n",
       "      <td>5/19 16:29</td>\n",
       "      <td>74</td>\n",
       "      <td>213.0</td>\n",
       "      <td>38069</td>\n",
       "      <td>38069</td>\n",
       "      <td>38069</td>\n",
       "      <td>16</td>\n",
       "      <td>2020-05-18T23:00:00Z</td>\n",
       "      <td>2020-05-19T20:29:00Z</td>\n",
       "      <td>d5d7a66847b30c3000b2c729ecf6aea4aed66b82</td>\n",
       "    </tr>\n",
       "    <tr>\n",
       "      <td>14</td>\n",
       "      <td>IL</td>\n",
       "      <td>98030</td>\n",
       "      <td>1.0</td>\n",
       "      <td>1.0</td>\n",
       "      <td>1.0</td>\n",
       "      <td>1.0</td>\n",
       "      <td>A</td>\n",
       "      <td>4.0</td>\n",
       "      <td>Please stop using the \"total\" field. Use \"tota...</td>\n",
       "      <td>A</td>\n",
       "      <td>...</td>\n",
       "      <td>5/19 17:34</td>\n",
       "      <td>4379</td>\n",
       "      <td>NaN</td>\n",
       "      <td>621684</td>\n",
       "      <td>621684</td>\n",
       "      <td>621684</td>\n",
       "      <td>17</td>\n",
       "      <td>2020-05-19T04:00:00Z</td>\n",
       "      <td>2020-05-19T21:34:00Z</td>\n",
       "      <td>06c7db238cab252724cb493a127d94828760bb9b</td>\n",
       "    </tr>\n",
       "    <tr>\n",
       "      <td>15</td>\n",
       "      <td>IN</td>\n",
       "      <td>28705</td>\n",
       "      <td>1.0</td>\n",
       "      <td>1.0</td>\n",
       "      <td>1.0</td>\n",
       "      <td>0.0</td>\n",
       "      <td>B</td>\n",
       "      <td>3.0</td>\n",
       "      <td>Please stop using the \"total\" field. Use \"tota...</td>\n",
       "      <td>A+</td>\n",
       "      <td>...</td>\n",
       "      <td>5/19 17:35</td>\n",
       "      <td>1824</td>\n",
       "      <td>4389.0</td>\n",
       "      <td>189330</td>\n",
       "      <td>189330</td>\n",
       "      <td>189330</td>\n",
       "      <td>18</td>\n",
       "      <td>2020-05-19T03:59:00Z</td>\n",
       "      <td>2020-05-19T21:35:00Z</td>\n",
       "      <td>c51b3cbce0073799d54206cd165301aba7fa6ed7</td>\n",
       "    </tr>\n",
       "    <tr>\n",
       "      <td>16</td>\n",
       "      <td>KS</td>\n",
       "      <td>8340</td>\n",
       "      <td>1.0</td>\n",
       "      <td>1.0</td>\n",
       "      <td>1.0</td>\n",
       "      <td>0.0</td>\n",
       "      <td>B</td>\n",
       "      <td>3.0</td>\n",
       "      <td>Please stop using the \"total\" field. Use \"tota...</td>\n",
       "      <td>A+</td>\n",
       "      <td>...</td>\n",
       "      <td>5/19 18:57</td>\n",
       "      <td>173</td>\n",
       "      <td>740.0</td>\n",
       "      <td>66990</td>\n",
       "      <td>66990</td>\n",
       "      <td>66990</td>\n",
       "      <td>20</td>\n",
       "      <td>2020-05-18T14:00:00Z</td>\n",
       "      <td>2020-05-19T22:57:00Z</td>\n",
       "      <td>6d90ca4d2659d03392f2dcb4f16b04cade786ce5</td>\n",
       "    </tr>\n",
       "    <tr>\n",
       "      <td>17</td>\n",
       "      <td>KY</td>\n",
       "      <td>8069</td>\n",
       "      <td>1.0</td>\n",
       "      <td>1.0</td>\n",
       "      <td>1.0</td>\n",
       "      <td>1.0</td>\n",
       "      <td>A</td>\n",
       "      <td>4.0</td>\n",
       "      <td>Please stop using the \"total\" field. Use \"tota...</td>\n",
       "      <td>A</td>\n",
       "      <td>...</td>\n",
       "      <td>5/19 17:52</td>\n",
       "      <td>366</td>\n",
       "      <td>1980.0</td>\n",
       "      <td>153986</td>\n",
       "      <td>153986</td>\n",
       "      <td>153986</td>\n",
       "      <td>21</td>\n",
       "      <td>2020-05-19T21:00:00Z</td>\n",
       "      <td>2020-05-19T21:52:00Z</td>\n",
       "      <td>2e4fbdb3159210afbc8f41856c0cfde096b145d6</td>\n",
       "    </tr>\n",
       "    <tr>\n",
       "      <td>18</td>\n",
       "      <td>LA</td>\n",
       "      <td>35038</td>\n",
       "      <td>1.0</td>\n",
       "      <td>1.0</td>\n",
       "      <td>1.0</td>\n",
       "      <td>1.0</td>\n",
       "      <td>A</td>\n",
       "      <td>4.0</td>\n",
       "      <td>Please stop using the \"total\" field. Use \"tota...</td>\n",
       "      <td>B</td>\n",
       "      <td>...</td>\n",
       "      <td>5/19 17:49</td>\n",
       "      <td>2581</td>\n",
       "      <td>NaN</td>\n",
       "      <td>278073</td>\n",
       "      <td>278073</td>\n",
       "      <td>278073</td>\n",
       "      <td>22</td>\n",
       "      <td>2020-05-19T17:00:00Z</td>\n",
       "      <td>2020-05-19T21:49:00Z</td>\n",
       "      <td>721e0a22d1b7fde8ca8b562e3ded355227fdd99e</td>\n",
       "    </tr>\n",
       "    <tr>\n",
       "      <td>19</td>\n",
       "      <td>MA</td>\n",
       "      <td>87925</td>\n",
       "      <td>1.0</td>\n",
       "      <td>1.0</td>\n",
       "      <td>0.0</td>\n",
       "      <td>1.0</td>\n",
       "      <td>B</td>\n",
       "      <td>3.0</td>\n",
       "      <td>Please stop using the \"total\" field. Use \"tota...</td>\n",
       "      <td>A</td>\n",
       "      <td>...</td>\n",
       "      <td>5/19 16:45</td>\n",
       "      <td>5938</td>\n",
       "      <td>8766.0</td>\n",
       "      <td>476940</td>\n",
       "      <td>476940</td>\n",
       "      <td>476940</td>\n",
       "      <td>25</td>\n",
       "      <td>2020-05-19T14:00:00Z</td>\n",
       "      <td>2020-05-19T20:45:00Z</td>\n",
       "      <td>70e26954ae197dc9c52d142ca8cbada7b63c0309</td>\n",
       "    </tr>\n",
       "    <tr>\n",
       "      <td>20</td>\n",
       "      <td>MD</td>\n",
       "      <td>41546</td>\n",
       "      <td>1.0</td>\n",
       "      <td>1.0</td>\n",
       "      <td>1.0</td>\n",
       "      <td>1.0</td>\n",
       "      <td>A</td>\n",
       "      <td>4.0</td>\n",
       "      <td>Please stop using the \"total\" field. Use \"tota...</td>\n",
       "      <td>B</td>\n",
       "      <td>...</td>\n",
       "      <td>5/19 17:37</td>\n",
       "      <td>2081</td>\n",
       "      <td>7199.0</td>\n",
       "      <td>208658</td>\n",
       "      <td>208658</td>\n",
       "      <td>208658</td>\n",
       "      <td>24</td>\n",
       "      <td>2020-05-19T14:00:00Z</td>\n",
       "      <td>2020-05-19T21:37:00Z</td>\n",
       "      <td>579c83757bfacc9f9dfd093664146aa85a89ed49</td>\n",
       "    </tr>\n",
       "    <tr>\n",
       "      <td>21</td>\n",
       "      <td>ME</td>\n",
       "      <td>1741</td>\n",
       "      <td>1.0</td>\n",
       "      <td>1.0</td>\n",
       "      <td>1.0</td>\n",
       "      <td>1.0</td>\n",
       "      <td>A</td>\n",
       "      <td>4.0</td>\n",
       "      <td>Please stop using the \"total\" field. Use \"tota...</td>\n",
       "      <td>B</td>\n",
       "      <td>...</td>\n",
       "      <td>5/19 17:30</td>\n",
       "      <td>73</td>\n",
       "      <td>225.0</td>\n",
       "      <td>23833</td>\n",
       "      <td>23833</td>\n",
       "      <td>23833</td>\n",
       "      <td>23</td>\n",
       "      <td>2020-05-19T15:30:00Z</td>\n",
       "      <td>2020-05-19T21:30:00Z</td>\n",
       "      <td>5c7f97a9a50611f521b3b3cb1c37ff39936dc6b1</td>\n",
       "    </tr>\n",
       "    <tr>\n",
       "      <td>22</td>\n",
       "      <td>MI</td>\n",
       "      <td>52350</td>\n",
       "      <td>1.0</td>\n",
       "      <td>1.0</td>\n",
       "      <td>0.0</td>\n",
       "      <td>1.0</td>\n",
       "      <td>B</td>\n",
       "      <td>3.0</td>\n",
       "      <td>Please stop using the \"total\" field. Use \"tota...</td>\n",
       "      <td>A+</td>\n",
       "      <td>...</td>\n",
       "      <td>5/19 15:41</td>\n",
       "      <td>5017</td>\n",
       "      <td>NaN</td>\n",
       "      <td>422904</td>\n",
       "      <td>422904</td>\n",
       "      <td>422904</td>\n",
       "      <td>26</td>\n",
       "      <td>2020-05-19T15:00:00Z</td>\n",
       "      <td>2020-05-19T19:41:00Z</td>\n",
       "      <td>81f44098f3daaf34c50905afba770f7a73e126ee</td>\n",
       "    </tr>\n",
       "    <tr>\n",
       "      <td>23</td>\n",
       "      <td>MN</td>\n",
       "      <td>17029</td>\n",
       "      <td>1.0</td>\n",
       "      <td>1.0</td>\n",
       "      <td>1.0</td>\n",
       "      <td>1.0</td>\n",
       "      <td>A</td>\n",
       "      <td>4.0</td>\n",
       "      <td>Please stop using the \"total\" field. Use \"tota...</td>\n",
       "      <td>A</td>\n",
       "      <td>...</td>\n",
       "      <td>5/19 16:22</td>\n",
       "      <td>757</td>\n",
       "      <td>2221.0</td>\n",
       "      <td>161835</td>\n",
       "      <td>161835</td>\n",
       "      <td>161835</td>\n",
       "      <td>27</td>\n",
       "      <td>2020-05-18T21:00:00Z</td>\n",
       "      <td>2020-05-19T20:22:00Z</td>\n",
       "      <td>69fa177ad864c28ff062ebfec45595a5cf27232b</td>\n",
       "    </tr>\n",
       "    <tr>\n",
       "      <td>24</td>\n",
       "      <td>MO</td>\n",
       "      <td>11080</td>\n",
       "      <td>1.0</td>\n",
       "      <td>1.0</td>\n",
       "      <td>1.0</td>\n",
       "      <td>1.0</td>\n",
       "      <td>A</td>\n",
       "      <td>4.0</td>\n",
       "      <td>Please stop using the \"total\" field. Use \"tota...</td>\n",
       "      <td>B</td>\n",
       "      <td>...</td>\n",
       "      <td>5/19 17:32</td>\n",
       "      <td>616</td>\n",
       "      <td>NaN</td>\n",
       "      <td>154110</td>\n",
       "      <td>154110</td>\n",
       "      <td>154110</td>\n",
       "      <td>29</td>\n",
       "      <td>2020-05-19T19:00:00Z</td>\n",
       "      <td>2020-05-19T21:32:00Z</td>\n",
       "      <td>70fbe25599362393fdd6ee2c28827e9f138cd577</td>\n",
       "    </tr>\n",
       "    <tr>\n",
       "      <td>25</td>\n",
       "      <td>MS</td>\n",
       "      <td>11704</td>\n",
       "      <td>1.0</td>\n",
       "      <td>1.0</td>\n",
       "      <td>1.0</td>\n",
       "      <td>1.0</td>\n",
       "      <td>A</td>\n",
       "      <td>4.0</td>\n",
       "      <td>Please stop using the \"total\" field. Use \"tota...</td>\n",
       "      <td>A</td>\n",
       "      <td>...</td>\n",
       "      <td>5/19 17:35</td>\n",
       "      <td>554</td>\n",
       "      <td>1840.0</td>\n",
       "      <td>117760</td>\n",
       "      <td>117760</td>\n",
       "      <td>117760</td>\n",
       "      <td>28</td>\n",
       "      <td>2020-05-18T23:00:00Z</td>\n",
       "      <td>2020-05-19T21:35:00Z</td>\n",
       "      <td>49f475c2de9208b4c1f67f72afdeb57478dc920c</td>\n",
       "    </tr>\n",
       "    <tr>\n",
       "      <td>26</td>\n",
       "      <td>MT</td>\n",
       "      <td>471</td>\n",
       "      <td>1.0</td>\n",
       "      <td>1.0</td>\n",
       "      <td>1.0</td>\n",
       "      <td>1.0</td>\n",
       "      <td>A</td>\n",
       "      <td>4.0</td>\n",
       "      <td>Please stop using the \"total\" field. Use \"tota...</td>\n",
       "      <td>C</td>\n",
       "      <td>...</td>\n",
       "      <td>5/19 14:42</td>\n",
       "      <td>16</td>\n",
       "      <td>65.0</td>\n",
       "      <td>28950</td>\n",
       "      <td>28950</td>\n",
       "      <td>28950</td>\n",
       "      <td>30</td>\n",
       "      <td>2020-05-19T04:00:00Z</td>\n",
       "      <td>2020-05-19T18:42:00Z</td>\n",
       "      <td>f246bb3ccd3c0b1146164f3e6693f351f691e469</td>\n",
       "    </tr>\n",
       "    <tr>\n",
       "      <td>27</td>\n",
       "      <td>NC</td>\n",
       "      <td>19700</td>\n",
       "      <td>1.0</td>\n",
       "      <td>1.0</td>\n",
       "      <td>1.0</td>\n",
       "      <td>1.0</td>\n",
       "      <td>A</td>\n",
       "      <td>4.0</td>\n",
       "      <td>Please stop using the \"total\" field. Use \"tota...</td>\n",
       "      <td>A</td>\n",
       "      <td>...</td>\n",
       "      <td>5/19 14:45</td>\n",
       "      <td>691</td>\n",
       "      <td>NaN</td>\n",
       "      <td>265008</td>\n",
       "      <td>265008</td>\n",
       "      <td>265008</td>\n",
       "      <td>37</td>\n",
       "      <td>2020-05-19T18:00:00Z</td>\n",
       "      <td>2020-05-19T18:45:00Z</td>\n",
       "      <td>ffedad0cb617753fe510574104c482f25ee9693b</td>\n",
       "    </tr>\n",
       "    <tr>\n",
       "      <td>28</td>\n",
       "      <td>ND</td>\n",
       "      <td>1994</td>\n",
       "      <td>1.0</td>\n",
       "      <td>1.0</td>\n",
       "      <td>1.0</td>\n",
       "      <td>0.0</td>\n",
       "      <td>B</td>\n",
       "      <td>3.0</td>\n",
       "      <td>Please stop using the \"total\" field. Use \"tota...</td>\n",
       "      <td>C</td>\n",
       "      <td>...</td>\n",
       "      <td>5/19 14:47</td>\n",
       "      <td>45</td>\n",
       "      <td>135.0</td>\n",
       "      <td>57731</td>\n",
       "      <td>57731</td>\n",
       "      <td>57731</td>\n",
       "      <td>38</td>\n",
       "      <td>2020-05-19T17:00:00Z</td>\n",
       "      <td>2020-05-19T18:47:00Z</td>\n",
       "      <td>cb3958e972db8fc85c4faa7f808ac833cf145fcb</td>\n",
       "    </tr>\n",
       "    <tr>\n",
       "      <td>29</td>\n",
       "      <td>NE</td>\n",
       "      <td>10625</td>\n",
       "      <td>1.0</td>\n",
       "      <td>1.0</td>\n",
       "      <td>1.0</td>\n",
       "      <td>1.0</td>\n",
       "      <td>A</td>\n",
       "      <td>4.0</td>\n",
       "      <td>Please stop using the \"total\" field. Use \"tota...</td>\n",
       "      <td>D</td>\n",
       "      <td>...</td>\n",
       "      <td>5/19 14:50</td>\n",
       "      <td>125</td>\n",
       "      <td>NaN</td>\n",
       "      <td>69984</td>\n",
       "      <td>69984</td>\n",
       "      <td>69984</td>\n",
       "      <td>31</td>\n",
       "      <td>2020-05-19T00:00:00Z</td>\n",
       "      <td>2020-05-19T18:50:00Z</td>\n",
       "      <td>06852cf29e482be6d4869cae37b1660ee9d46ff7</td>\n",
       "    </tr>\n",
       "    <tr>\n",
       "      <td>30</td>\n",
       "      <td>NH</td>\n",
       "      <td>3652</td>\n",
       "      <td>1.0</td>\n",
       "      <td>1.0</td>\n",
       "      <td>1.0</td>\n",
       "      <td>0.0</td>\n",
       "      <td>B</td>\n",
       "      <td>3.0</td>\n",
       "      <td>Please stop using the \"total\" field. Use \"tota...</td>\n",
       "      <td>B</td>\n",
       "      <td>...</td>\n",
       "      <td>5/19 14:53</td>\n",
       "      <td>172</td>\n",
       "      <td>368.0</td>\n",
       "      <td>50348</td>\n",
       "      <td>49474</td>\n",
       "      <td>49474</td>\n",
       "      <td>33</td>\n",
       "      <td>2020-05-18T13:00:00Z</td>\n",
       "      <td>2020-05-19T18:53:00Z</td>\n",
       "      <td>8e44d5a7980f6b34c059cc796ad0610cea0a03bd</td>\n",
       "    </tr>\n",
       "    <tr>\n",
       "      <td>31</td>\n",
       "      <td>NJ</td>\n",
       "      <td>149013</td>\n",
       "      <td>1.0</td>\n",
       "      <td>1.0</td>\n",
       "      <td>1.0</td>\n",
       "      <td>1.0</td>\n",
       "      <td>A</td>\n",
       "      <td>4.0</td>\n",
       "      <td>Please stop using the \"total\" field. Use \"tota...</td>\n",
       "      <td>A+</td>\n",
       "      <td>...</td>\n",
       "      <td>5/19 14:56</td>\n",
       "      <td>10586</td>\n",
       "      <td>NaN</td>\n",
       "      <td>520182</td>\n",
       "      <td>520182</td>\n",
       "      <td>520182</td>\n",
       "      <td>34</td>\n",
       "      <td>2020-05-19T17:00:00Z</td>\n",
       "      <td>2020-05-19T18:56:00Z</td>\n",
       "      <td>6e003e4f45a48934bbf678b2e0c8e396d6883ac0</td>\n",
       "    </tr>\n",
       "    <tr>\n",
       "      <td>32</td>\n",
       "      <td>NM</td>\n",
       "      <td>6096</td>\n",
       "      <td>1.0</td>\n",
       "      <td>1.0</td>\n",
       "      <td>1.0</td>\n",
       "      <td>1.0</td>\n",
       "      <td>A</td>\n",
       "      <td>4.0</td>\n",
       "      <td>Please stop using the \"total\" field. Use \"tota...</td>\n",
       "      <td>C</td>\n",
       "      <td>...</td>\n",
       "      <td>5/19 15:38</td>\n",
       "      <td>270</td>\n",
       "      <td>886.0</td>\n",
       "      <td>137620</td>\n",
       "      <td>137620</td>\n",
       "      <td>137620</td>\n",
       "      <td>35</td>\n",
       "      <td>2020-05-18T22:05:00Z</td>\n",
       "      <td>2020-05-19T19:38:00Z</td>\n",
       "      <td>9742a47ab86839ca14e776620e811933f67b4d25</td>\n",
       "    </tr>\n",
       "    <tr>\n",
       "      <td>33</td>\n",
       "      <td>NV</td>\n",
       "      <td>7046</td>\n",
       "      <td>1.0</td>\n",
       "      <td>1.0</td>\n",
       "      <td>1.0</td>\n",
       "      <td>1.0</td>\n",
       "      <td>A</td>\n",
       "      <td>4.0</td>\n",
       "      <td>Please stop using the \"total\" field. Use \"tota...</td>\n",
       "      <td>A</td>\n",
       "      <td>...</td>\n",
       "      <td>5/19 17:10</td>\n",
       "      <td>365</td>\n",
       "      <td>NaN</td>\n",
       "      <td>87555</td>\n",
       "      <td>87555</td>\n",
       "      <td>87555</td>\n",
       "      <td>32</td>\n",
       "      <td>2020-05-19T14:00:00Z</td>\n",
       "      <td>2020-05-19T21:10:00Z</td>\n",
       "      <td>f415ff8a9d72e349667a207f679c9e16fd46ad21</td>\n",
       "    </tr>\n",
       "    <tr>\n",
       "      <td>34</td>\n",
       "      <td>NY</td>\n",
       "      <td>352845</td>\n",
       "      <td>1.0</td>\n",
       "      <td>1.0</td>\n",
       "      <td>1.0</td>\n",
       "      <td>1.0</td>\n",
       "      <td>A</td>\n",
       "      <td>4.0</td>\n",
       "      <td>Please stop using the \"total\" field. Use \"tota...</td>\n",
       "      <td>A</td>\n",
       "      <td>...</td>\n",
       "      <td>5/19 15:31</td>\n",
       "      <td>22843</td>\n",
       "      <td>76168.0</td>\n",
       "      <td>1467739</td>\n",
       "      <td>1467739</td>\n",
       "      <td>1467739</td>\n",
       "      <td>36</td>\n",
       "      <td>2020-05-19T04:00:00Z</td>\n",
       "      <td>2020-05-19T19:31:00Z</td>\n",
       "      <td>305bdada5e0c265f4e6ebf04639cc89ced5147fc</td>\n",
       "    </tr>\n",
       "    <tr>\n",
       "      <td>35</td>\n",
       "      <td>OH</td>\n",
       "      <td>28952</td>\n",
       "      <td>1.0</td>\n",
       "      <td>1.0</td>\n",
       "      <td>0.0</td>\n",
       "      <td>1.0</td>\n",
       "      <td>B</td>\n",
       "      <td>3.0</td>\n",
       "      <td>Please stop using the \"total\" field. Use \"tota...</td>\n",
       "      <td>B</td>\n",
       "      <td>...</td>\n",
       "      <td>5/19 16:44</td>\n",
       "      <td>1720</td>\n",
       "      <td>5117.0</td>\n",
       "      <td>277602</td>\n",
       "      <td>277602</td>\n",
       "      <td>277602</td>\n",
       "      <td>39</td>\n",
       "      <td>2020-05-19T18:00:00Z</td>\n",
       "      <td>2020-05-19T20:44:00Z</td>\n",
       "      <td>a39fa103f4f2d7a440052b86c12b7dd351de9a62</td>\n",
       "    </tr>\n",
       "    <tr>\n",
       "      <td>36</td>\n",
       "      <td>OK</td>\n",
       "      <td>5489</td>\n",
       "      <td>1.0</td>\n",
       "      <td>1.0</td>\n",
       "      <td>0.0</td>\n",
       "      <td>1.0</td>\n",
       "      <td>B</td>\n",
       "      <td>3.0</td>\n",
       "      <td>Please stop using the \"total\" field. Use \"tota...</td>\n",
       "      <td>A+</td>\n",
       "      <td>...</td>\n",
       "      <td>5/19 17:48</td>\n",
       "      <td>294</td>\n",
       "      <td>897.0</td>\n",
       "      <td>139147</td>\n",
       "      <td>139147</td>\n",
       "      <td>139147</td>\n",
       "      <td>40</td>\n",
       "      <td>2020-05-19T04:00:00Z</td>\n",
       "      <td>2020-05-19T21:48:00Z</td>\n",
       "      <td>902dcceb1fa149ac09917f5b4a088fe216079459</td>\n",
       "    </tr>\n",
       "    <tr>\n",
       "      <td>37</td>\n",
       "      <td>OR</td>\n",
       "      <td>3726</td>\n",
       "      <td>1.0</td>\n",
       "      <td>1.0</td>\n",
       "      <td>1.0</td>\n",
       "      <td>1.0</td>\n",
       "      <td>A</td>\n",
       "      <td>4.0</td>\n",
       "      <td>Please stop using the \"total\" field. Use \"tota...</td>\n",
       "      <td>A+</td>\n",
       "      <td>...</td>\n",
       "      <td>5/19 17:25</td>\n",
       "      <td>140</td>\n",
       "      <td>714.0</td>\n",
       "      <td>99720</td>\n",
       "      <td>99720</td>\n",
       "      <td>99720</td>\n",
       "      <td>41</td>\n",
       "      <td>2020-05-19T15:00:00Z</td>\n",
       "      <td>2020-05-19T21:25:00Z</td>\n",
       "      <td>8e1b679fec81d632e0d7e241134c1b5b2f791275</td>\n",
       "    </tr>\n",
       "    <tr>\n",
       "      <td>38</td>\n",
       "      <td>PA</td>\n",
       "      <td>63666</td>\n",
       "      <td>1.0</td>\n",
       "      <td>1.0</td>\n",
       "      <td>1.0</td>\n",
       "      <td>1.0</td>\n",
       "      <td>A</td>\n",
       "      <td>4.0</td>\n",
       "      <td>Please stop using the \"total\" field. Use \"tota...</td>\n",
       "      <td>B</td>\n",
       "      <td>...</td>\n",
       "      <td>5/19 16:45</td>\n",
       "      <td>4624</td>\n",
       "      <td>NaN</td>\n",
       "      <td>349700</td>\n",
       "      <td>349700</td>\n",
       "      <td>349700</td>\n",
       "      <td>42</td>\n",
       "      <td>2020-05-18T04:00:00Z</td>\n",
       "      <td>2020-05-19T20:45:00Z</td>\n",
       "      <td>a7d541c37b1c878a9696c28e7758a09fe402a5c1</td>\n",
       "    </tr>\n",
       "    <tr>\n",
       "      <td>39</td>\n",
       "      <td>RI</td>\n",
       "      <td>12951</td>\n",
       "      <td>1.0</td>\n",
       "      <td>1.0</td>\n",
       "      <td>1.0</td>\n",
       "      <td>0.0</td>\n",
       "      <td>B</td>\n",
       "      <td>3.0</td>\n",
       "      <td>Please stop using the \"total\" field. Use \"tota...</td>\n",
       "      <td>A+</td>\n",
       "      <td>...</td>\n",
       "      <td>5/19 17:12</td>\n",
       "      <td>532</td>\n",
       "      <td>1464.0</td>\n",
       "      <td>117246</td>\n",
       "      <td>117246</td>\n",
       "      <td>117246</td>\n",
       "      <td>44</td>\n",
       "      <td>2020-05-19T16:00:00Z</td>\n",
       "      <td>2020-05-19T21:12:00Z</td>\n",
       "      <td>d10f825031519797bc240401fbb9477cf955d3b9</td>\n",
       "    </tr>\n",
       "    <tr>\n",
       "      <td>40</td>\n",
       "      <td>SC</td>\n",
       "      <td>9056</td>\n",
       "      <td>1.0</td>\n",
       "      <td>1.0</td>\n",
       "      <td>1.0</td>\n",
       "      <td>0.0</td>\n",
       "      <td>B</td>\n",
       "      <td>3.0</td>\n",
       "      <td>Please stop using the \"total\" field. Use \"tota...</td>\n",
       "      <td>A+</td>\n",
       "      <td>...</td>\n",
       "      <td>5/19 17:14</td>\n",
       "      <td>399</td>\n",
       "      <td>1444.0</td>\n",
       "      <td>135063</td>\n",
       "      <td>135063</td>\n",
       "      <td>135063</td>\n",
       "      <td>45</td>\n",
       "      <td>2020-05-19T20:00:00Z</td>\n",
       "      <td>2020-05-19T21:14:00Z</td>\n",
       "      <td>1339f1af3b63becb96608867b996c85b9d0c7bd0</td>\n",
       "    </tr>\n",
       "    <tr>\n",
       "      <td>41</td>\n",
       "      <td>SD</td>\n",
       "      <td>4085</td>\n",
       "      <td>1.0</td>\n",
       "      <td>1.0</td>\n",
       "      <td>1.0</td>\n",
       "      <td>1.0</td>\n",
       "      <td>A</td>\n",
       "      <td>4.0</td>\n",
       "      <td>Please stop using the \"total\" field. Use \"tota...</td>\n",
       "      <td>C</td>\n",
       "      <td>...</td>\n",
       "      <td>5/19 17:15</td>\n",
       "      <td>46</td>\n",
       "      <td>327.0</td>\n",
       "      <td>29709</td>\n",
       "      <td>29709</td>\n",
       "      <td>29709</td>\n",
       "      <td>46</td>\n",
       "      <td>2020-05-18T22:00:00Z</td>\n",
       "      <td>2020-05-19T21:15:00Z</td>\n",
       "      <td>f8b407aacc2e692ea65190d4c4ce40caf06d7271</td>\n",
       "    </tr>\n",
       "    <tr>\n",
       "      <td>42</td>\n",
       "      <td>TN</td>\n",
       "      <td>18378</td>\n",
       "      <td>1.0</td>\n",
       "      <td>1.0</td>\n",
       "      <td>1.0</td>\n",
       "      <td>1.0</td>\n",
       "      <td>A</td>\n",
       "      <td>4.0</td>\n",
       "      <td>Please stop using the \"total\" field. Use \"tota...</td>\n",
       "      <td>B</td>\n",
       "      <td>...</td>\n",
       "      <td>5/19 17:20</td>\n",
       "      <td>305</td>\n",
       "      <td>1498.0</td>\n",
       "      <td>346123</td>\n",
       "      <td>346123</td>\n",
       "      <td>346123</td>\n",
       "      <td>47</td>\n",
       "      <td>2020-05-19T19:00:00Z</td>\n",
       "      <td>2020-05-19T21:20:00Z</td>\n",
       "      <td>e7c47faadd694dfe3780be46d68ca317ba2ecf1f</td>\n",
       "    </tr>\n",
       "    <tr>\n",
       "      <td>43</td>\n",
       "      <td>TX</td>\n",
       "      <td>49912</td>\n",
       "      <td>1.0</td>\n",
       "      <td>1.0</td>\n",
       "      <td>1.0</td>\n",
       "      <td>1.0</td>\n",
       "      <td>A</td>\n",
       "      <td>4.0</td>\n",
       "      <td>Please stop using the \"total\" field. Use \"tota...</td>\n",
       "      <td>B</td>\n",
       "      <td>...</td>\n",
       "      <td>5/19 17:43</td>\n",
       "      <td>1369</td>\n",
       "      <td>NaN</td>\n",
       "      <td>744937</td>\n",
       "      <td>744937</td>\n",
       "      <td>744937</td>\n",
       "      <td>48</td>\n",
       "      <td>2020-05-19T20:50:00Z</td>\n",
       "      <td>2020-05-19T21:43:00Z</td>\n",
       "      <td>7d8d6d24974e9ed1f9d862a3813782f89c9e00e9</td>\n",
       "    </tr>\n",
       "    <tr>\n",
       "      <td>44</td>\n",
       "      <td>UT</td>\n",
       "      <td>7384</td>\n",
       "      <td>1.0</td>\n",
       "      <td>1.0</td>\n",
       "      <td>1.0</td>\n",
       "      <td>1.0</td>\n",
       "      <td>A</td>\n",
       "      <td>4.0</td>\n",
       "      <td>Please stop using the \"total\" field. Use \"tota...</td>\n",
       "      <td>B</td>\n",
       "      <td>...</td>\n",
       "      <td>5/19 17:48</td>\n",
       "      <td>80</td>\n",
       "      <td>595.0</td>\n",
       "      <td>174022</td>\n",
       "      <td>174022</td>\n",
       "      <td>174022</td>\n",
       "      <td>49</td>\n",
       "      <td>2020-05-18T14:29:00Z</td>\n",
       "      <td>2020-05-19T21:48:00Z</td>\n",
       "      <td>e108612bb9b2d08b8a2c06944f2a4d35b7b88cca</td>\n",
       "    </tr>\n",
       "    <tr>\n",
       "      <td>45</td>\n",
       "      <td>VA</td>\n",
       "      <td>32145</td>\n",
       "      <td>1.0</td>\n",
       "      <td>1.0</td>\n",
       "      <td>1.0</td>\n",
       "      <td>1.0</td>\n",
       "      <td>A</td>\n",
       "      <td>4.0</td>\n",
       "      <td>Please stop using the \"total\" field. Use \"tota...</td>\n",
       "      <td>A+</td>\n",
       "      <td>...</td>\n",
       "      <td>5/19 17:23</td>\n",
       "      <td>1041</td>\n",
       "      <td>5768.0</td>\n",
       "      <td>203262</td>\n",
       "      <td>202789</td>\n",
       "      <td>202789</td>\n",
       "      <td>51</td>\n",
       "      <td>2020-05-18T21:00:00Z</td>\n",
       "      <td>2020-05-19T21:23:00Z</td>\n",
       "      <td>970f8db20d31a7722130041280d0e422ca480efc</td>\n",
       "    </tr>\n",
       "    <tr>\n",
       "      <td>46</td>\n",
       "      <td>VT</td>\n",
       "      <td>944</td>\n",
       "      <td>1.0</td>\n",
       "      <td>1.0</td>\n",
       "      <td>1.0</td>\n",
       "      <td>1.0</td>\n",
       "      <td>A</td>\n",
       "      <td>4.0</td>\n",
       "      <td>Please stop using the \"total\" field. Use \"tota...</td>\n",
       "      <td>B</td>\n",
       "      <td>...</td>\n",
       "      <td>5/19 17:25</td>\n",
       "      <td>54</td>\n",
       "      <td>NaN</td>\n",
       "      <td>24591</td>\n",
       "      <td>24591</td>\n",
       "      <td>24591</td>\n",
       "      <td>50</td>\n",
       "      <td>2020-05-19T04:00:00Z</td>\n",
       "      <td>2020-05-19T21:25:00Z</td>\n",
       "      <td>5959b4a37002a720a30e93ae13dee2cc62736866</td>\n",
       "    </tr>\n",
       "    <tr>\n",
       "      <td>47</td>\n",
       "      <td>WA</td>\n",
       "      <td>18611</td>\n",
       "      <td>0.0</td>\n",
       "      <td>1.0</td>\n",
       "      <td>0.0</td>\n",
       "      <td>1.0</td>\n",
       "      <td>C</td>\n",
       "      <td>2.0</td>\n",
       "      <td>Please stop using the \"total\" field. Use \"tota...</td>\n",
       "      <td>B</td>\n",
       "      <td>...</td>\n",
       "      <td>5/19 17:28</td>\n",
       "      <td>1002</td>\n",
       "      <td>NaN</td>\n",
       "      <td>289135</td>\n",
       "      <td>289135</td>\n",
       "      <td>289135</td>\n",
       "      <td>53</td>\n",
       "      <td>2020-05-18T06:59:00Z</td>\n",
       "      <td>2020-05-19T21:28:00Z</td>\n",
       "      <td>f398a77e9dbddf7d33f8e5d1628b28d644dc4871</td>\n",
       "    </tr>\n",
       "    <tr>\n",
       "      <td>48</td>\n",
       "      <td>WI</td>\n",
       "      <td>12885</td>\n",
       "      <td>1.0</td>\n",
       "      <td>1.0</td>\n",
       "      <td>1.0</td>\n",
       "      <td>1.0</td>\n",
       "      <td>A</td>\n",
       "      <td>4.0</td>\n",
       "      <td>Please stop using the \"total\" field. Use \"tota...</td>\n",
       "      <td>A+</td>\n",
       "      <td>...</td>\n",
       "      <td>5/19 16:24</td>\n",
       "      <td>467</td>\n",
       "      <td>2110.0</td>\n",
       "      <td>161333</td>\n",
       "      <td>161122</td>\n",
       "      <td>161122</td>\n",
       "      <td>55</td>\n",
       "      <td>2020-05-19T04:00:00Z</td>\n",
       "      <td>2020-05-19T20:24:00Z</td>\n",
       "      <td>04c587fe2a886fb6414cc9130296a61a7da0618f</td>\n",
       "    </tr>\n",
       "    <tr>\n",
       "      <td>49</td>\n",
       "      <td>WV</td>\n",
       "      <td>1509</td>\n",
       "      <td>1.0</td>\n",
       "      <td>1.0</td>\n",
       "      <td>1.0</td>\n",
       "      <td>0.0</td>\n",
       "      <td>B</td>\n",
       "      <td>3.0</td>\n",
       "      <td>Please stop using the \"total\" field. Use \"tota...</td>\n",
       "      <td>B</td>\n",
       "      <td>...</td>\n",
       "      <td>5/19 15:39</td>\n",
       "      <td>68</td>\n",
       "      <td>NaN</td>\n",
       "      <td>78301</td>\n",
       "      <td>78301</td>\n",
       "      <td>78301</td>\n",
       "      <td>54</td>\n",
       "      <td>2020-05-19T14:00:00Z</td>\n",
       "      <td>2020-05-19T19:39:00Z</td>\n",
       "      <td>eab816339291fb8a6ff547dfd3b9c17018075425</td>\n",
       "    </tr>\n",
       "    <tr>\n",
       "      <td>50</td>\n",
       "      <td>WY</td>\n",
       "      <td>766</td>\n",
       "      <td>1.0</td>\n",
       "      <td>1.0</td>\n",
       "      <td>1.0</td>\n",
       "      <td>1.0</td>\n",
       "      <td>A</td>\n",
       "      <td>4.0</td>\n",
       "      <td>Please stop using the \"total\" field. Use \"tota...</td>\n",
       "      <td>C</td>\n",
       "      <td>...</td>\n",
       "      <td>5/19 15:06</td>\n",
       "      <td>10</td>\n",
       "      <td>73.0</td>\n",
       "      <td>17850</td>\n",
       "      <td>17850</td>\n",
       "      <td>17850</td>\n",
       "      <td>56</td>\n",
       "      <td>2020-05-18T04:00:00Z</td>\n",
       "      <td>2020-05-19T19:06:00Z</td>\n",
       "      <td>068713da0df7d788b1b414ecba0e92a5cd0ad379</td>\n",
       "    </tr>\n",
       "    <tr>\n",
       "      <td>51</td>\n",
       "      <td>PR</td>\n",
       "      <td>2805</td>\n",
       "      <td>1.0</td>\n",
       "      <td>1.0</td>\n",
       "      <td>1.0</td>\n",
       "      <td>1.0</td>\n",
       "      <td>A</td>\n",
       "      <td>4.0</td>\n",
       "      <td>Please stop using the \"total\" field. Use \"tota...</td>\n",
       "      <td>C</td>\n",
       "      <td>...</td>\n",
       "      <td>5/19 16:35</td>\n",
       "      <td>124</td>\n",
       "      <td>NaN</td>\n",
       "      <td>2805</td>\n",
       "      <td>2805</td>\n",
       "      <td>2805</td>\n",
       "      <td>72</td>\n",
       "      <td>2020-05-19T09:52:00Z</td>\n",
       "      <td>2020-05-19T20:35:00Z</td>\n",
       "      <td>1ac9b8a97301e9632ca1a65483e5ecdd5982a754</td>\n",
       "    </tr>\n",
       "    <tr>\n",
       "      <td>52</td>\n",
       "      <td>AS</td>\n",
       "      <td>0</td>\n",
       "      <td>NaN</td>\n",
       "      <td>NaN</td>\n",
       "      <td>NaN</td>\n",
       "      <td>NaN</td>\n",
       "      <td>NaN</td>\n",
       "      <td>NaN</td>\n",
       "      <td>Please stop using the \"total\" field. Use \"tota...</td>\n",
       "      <td>D</td>\n",
       "      <td>...</td>\n",
       "      <td>5/19 16:20</td>\n",
       "      <td>0</td>\n",
       "      <td>NaN</td>\n",
       "      <td>124</td>\n",
       "      <td>124</td>\n",
       "      <td>124</td>\n",
       "      <td>60</td>\n",
       "      <td>2020-05-19T04:00:00Z</td>\n",
       "      <td>2020-05-19T20:20:00Z</td>\n",
       "      <td>dd0a5ce2787aa979511f85de160a961d8ea3589f</td>\n",
       "    </tr>\n",
       "    <tr>\n",
       "      <td>53</td>\n",
       "      <td>GU</td>\n",
       "      <td>154</td>\n",
       "      <td>NaN</td>\n",
       "      <td>NaN</td>\n",
       "      <td>NaN</td>\n",
       "      <td>NaN</td>\n",
       "      <td>NaN</td>\n",
       "      <td>NaN</td>\n",
       "      <td>Please stop using the \"total\" field. Use \"tota...</td>\n",
       "      <td>C</td>\n",
       "      <td>...</td>\n",
       "      <td>5/19 16:57</td>\n",
       "      <td>5</td>\n",
       "      <td>NaN</td>\n",
       "      <td>4827</td>\n",
       "      <td>4827</td>\n",
       "      <td>4827</td>\n",
       "      <td>66</td>\n",
       "      <td>2020-05-19T09:45:00Z</td>\n",
       "      <td>2020-05-19T20:57:00Z</td>\n",
       "      <td>1a2bbeb8a838cf1765b8bd7496d04b201a379b55</td>\n",
       "    </tr>\n",
       "    <tr>\n",
       "      <td>54</td>\n",
       "      <td>MP</td>\n",
       "      <td>21</td>\n",
       "      <td>NaN</td>\n",
       "      <td>NaN</td>\n",
       "      <td>NaN</td>\n",
       "      <td>NaN</td>\n",
       "      <td>NaN</td>\n",
       "      <td>NaN</td>\n",
       "      <td>Please stop using the \"total\" field. Use \"tota...</td>\n",
       "      <td>D</td>\n",
       "      <td>...</td>\n",
       "      <td>5/19 17:35</td>\n",
       "      <td>2</td>\n",
       "      <td>NaN</td>\n",
       "      <td>3817</td>\n",
       "      <td>3817</td>\n",
       "      <td>3817</td>\n",
       "      <td>69</td>\n",
       "      <td>2020-05-19T04:00:00Z</td>\n",
       "      <td>2020-05-19T21:35:00Z</td>\n",
       "      <td>e32e527e54822013d0175f9efdc4f4597a32789e</td>\n",
       "    </tr>\n",
       "    <tr>\n",
       "      <td>55</td>\n",
       "      <td>VI</td>\n",
       "      <td>69</td>\n",
       "      <td>NaN</td>\n",
       "      <td>NaN</td>\n",
       "      <td>NaN</td>\n",
       "      <td>NaN</td>\n",
       "      <td>NaN</td>\n",
       "      <td>NaN</td>\n",
       "      <td>Please stop using the \"total\" field. Use \"tota...</td>\n",
       "      <td>C</td>\n",
       "      <td>...</td>\n",
       "      <td>5/19 17:31</td>\n",
       "      <td>6</td>\n",
       "      <td>NaN</td>\n",
       "      <td>1384</td>\n",
       "      <td>1367</td>\n",
       "      <td>1367</td>\n",
       "      <td>78</td>\n",
       "      <td>2020-05-19T10:34:00Z</td>\n",
       "      <td>2020-05-19T21:31:00Z</td>\n",
       "      <td>f1aaa0fb3861a778016f544843839d77ea96f49a</td>\n",
       "    </tr>\n",
       "  </tbody>\n",
       "</table>\n",
       "<p>56 rows × 30 columns</p>\n",
       "</div>"
      ],
      "text/plain": [
       "   state  positive  positiveScore  negativeScore  negativeRegularScore  \\\n",
       "0     AK       399            1.0            1.0                   1.0   \n",
       "1     AL     12376            1.0            1.0                   0.0   \n",
       "2     AR      4923            1.0            1.0                   1.0   \n",
       "3     AZ     14566            1.0            1.0                   0.0   \n",
       "4     CA     81795            1.0            1.0                   0.0   \n",
       "5     CO     22202            1.0            1.0                   1.0   \n",
       "6     CT     38430            1.0            1.0                   1.0   \n",
       "7     DC      7434            1.0            1.0                   1.0   \n",
       "8     DE      8037            1.0            1.0                   1.0   \n",
       "9     FL     46944            1.0            1.0                   1.0   \n",
       "10    GA     38721            1.0            1.0                   1.0   \n",
       "11    HI       640            1.0            1.0                   1.0   \n",
       "12    IA     15349            1.0            1.0                   1.0   \n",
       "13    ID      2455            1.0            1.0                   1.0   \n",
       "14    IL     98030            1.0            1.0                   1.0   \n",
       "15    IN     28705            1.0            1.0                   1.0   \n",
       "16    KS      8340            1.0            1.0                   1.0   \n",
       "17    KY      8069            1.0            1.0                   1.0   \n",
       "18    LA     35038            1.0            1.0                   1.0   \n",
       "19    MA     87925            1.0            1.0                   0.0   \n",
       "20    MD     41546            1.0            1.0                   1.0   \n",
       "21    ME      1741            1.0            1.0                   1.0   \n",
       "22    MI     52350            1.0            1.0                   0.0   \n",
       "23    MN     17029            1.0            1.0                   1.0   \n",
       "24    MO     11080            1.0            1.0                   1.0   \n",
       "25    MS     11704            1.0            1.0                   1.0   \n",
       "26    MT       471            1.0            1.0                   1.0   \n",
       "27    NC     19700            1.0            1.0                   1.0   \n",
       "28    ND      1994            1.0            1.0                   1.0   \n",
       "29    NE     10625            1.0            1.0                   1.0   \n",
       "30    NH      3652            1.0            1.0                   1.0   \n",
       "31    NJ    149013            1.0            1.0                   1.0   \n",
       "32    NM      6096            1.0            1.0                   1.0   \n",
       "33    NV      7046            1.0            1.0                   1.0   \n",
       "34    NY    352845            1.0            1.0                   1.0   \n",
       "35    OH     28952            1.0            1.0                   0.0   \n",
       "36    OK      5489            1.0            1.0                   0.0   \n",
       "37    OR      3726            1.0            1.0                   1.0   \n",
       "38    PA     63666            1.0            1.0                   1.0   \n",
       "39    RI     12951            1.0            1.0                   1.0   \n",
       "40    SC      9056            1.0            1.0                   1.0   \n",
       "41    SD      4085            1.0            1.0                   1.0   \n",
       "42    TN     18378            1.0            1.0                   1.0   \n",
       "43    TX     49912            1.0            1.0                   1.0   \n",
       "44    UT      7384            1.0            1.0                   1.0   \n",
       "45    VA     32145            1.0            1.0                   1.0   \n",
       "46    VT       944            1.0            1.0                   1.0   \n",
       "47    WA     18611            0.0            1.0                   0.0   \n",
       "48    WI     12885            1.0            1.0                   1.0   \n",
       "49    WV      1509            1.0            1.0                   1.0   \n",
       "50    WY       766            1.0            1.0                   1.0   \n",
       "51    PR      2805            1.0            1.0                   1.0   \n",
       "52    AS         0            NaN            NaN                   NaN   \n",
       "53    GU       154            NaN            NaN                   NaN   \n",
       "54    MP        21            NaN            NaN                   NaN   \n",
       "55    VI        69            NaN            NaN                   NaN   \n",
       "\n",
       "    commercialScore grade  score  \\\n",
       "0               1.0     A    4.0   \n",
       "1               1.0     B    3.0   \n",
       "2               1.0     A    4.0   \n",
       "3               1.0     B    3.0   \n",
       "4               1.0     B    3.0   \n",
       "5               1.0     A    4.0   \n",
       "6               1.0     A    4.0   \n",
       "7               1.0     A    4.0   \n",
       "8               1.0     A    4.0   \n",
       "9               1.0     A    4.0   \n",
       "10              1.0     A    4.0   \n",
       "11              1.0     A    4.0   \n",
       "12              1.0     A    4.0   \n",
       "13              1.0     A    4.0   \n",
       "14              1.0     A    4.0   \n",
       "15              0.0     B    3.0   \n",
       "16              0.0     B    3.0   \n",
       "17              1.0     A    4.0   \n",
       "18              1.0     A    4.0   \n",
       "19              1.0     B    3.0   \n",
       "20              1.0     A    4.0   \n",
       "21              1.0     A    4.0   \n",
       "22              1.0     B    3.0   \n",
       "23              1.0     A    4.0   \n",
       "24              1.0     A    4.0   \n",
       "25              1.0     A    4.0   \n",
       "26              1.0     A    4.0   \n",
       "27              1.0     A    4.0   \n",
       "28              0.0     B    3.0   \n",
       "29              1.0     A    4.0   \n",
       "30              0.0     B    3.0   \n",
       "31              1.0     A    4.0   \n",
       "32              1.0     A    4.0   \n",
       "33              1.0     A    4.0   \n",
       "34              1.0     A    4.0   \n",
       "35              1.0     B    3.0   \n",
       "36              1.0     B    3.0   \n",
       "37              1.0     A    4.0   \n",
       "38              1.0     A    4.0   \n",
       "39              0.0     B    3.0   \n",
       "40              0.0     B    3.0   \n",
       "41              1.0     A    4.0   \n",
       "42              1.0     A    4.0   \n",
       "43              1.0     A    4.0   \n",
       "44              1.0     A    4.0   \n",
       "45              1.0     A    4.0   \n",
       "46              1.0     A    4.0   \n",
       "47              1.0     C    2.0   \n",
       "48              1.0     A    4.0   \n",
       "49              0.0     B    3.0   \n",
       "50              1.0     A    4.0   \n",
       "51              1.0     A    4.0   \n",
       "52              NaN   NaN    NaN   \n",
       "53              NaN   NaN    NaN   \n",
       "54              NaN   NaN    NaN   \n",
       "55              NaN   NaN    NaN   \n",
       "\n",
       "                                                notes dataQualityGrade  ...  \\\n",
       "0   Please stop using the \"total\" field. Use \"tota...                C  ...   \n",
       "1   Please stop using the \"total\" field. Use \"tota...                B  ...   \n",
       "2   Please stop using the \"total\" field. Use \"tota...                A  ...   \n",
       "3   Please stop using the \"total\" field. Use \"tota...               A+  ...   \n",
       "4   Please stop using the \"total\" field. Use \"tota...                B  ...   \n",
       "5   Please stop using the \"total\" field. Use \"tota...                A  ...   \n",
       "6   Please stop using the \"total\" field. Use \"tota...                B  ...   \n",
       "7   Please stop using the \"total\" field. Use \"tota...                A  ...   \n",
       "8   Please stop using the \"total\" field. Use \"tota...                B  ...   \n",
       "9   Please stop using the \"total\" field. Use \"tota...               A+  ...   \n",
       "10  Please stop using the \"total\" field. Use \"tota...                A  ...   \n",
       "11  Please stop using the \"total\" field. Use \"tota...                C  ...   \n",
       "12  Please stop using the \"total\" field. Use \"tota...               A+  ...   \n",
       "13  Please stop using the \"total\" field. Use \"tota...                B  ...   \n",
       "14  Please stop using the \"total\" field. Use \"tota...                A  ...   \n",
       "15  Please stop using the \"total\" field. Use \"tota...               A+  ...   \n",
       "16  Please stop using the \"total\" field. Use \"tota...               A+  ...   \n",
       "17  Please stop using the \"total\" field. Use \"tota...                A  ...   \n",
       "18  Please stop using the \"total\" field. Use \"tota...                B  ...   \n",
       "19  Please stop using the \"total\" field. Use \"tota...                A  ...   \n",
       "20  Please stop using the \"total\" field. Use \"tota...                B  ...   \n",
       "21  Please stop using the \"total\" field. Use \"tota...                B  ...   \n",
       "22  Please stop using the \"total\" field. Use \"tota...               A+  ...   \n",
       "23  Please stop using the \"total\" field. Use \"tota...                A  ...   \n",
       "24  Please stop using the \"total\" field. Use \"tota...                B  ...   \n",
       "25  Please stop using the \"total\" field. Use \"tota...                A  ...   \n",
       "26  Please stop using the \"total\" field. Use \"tota...                C  ...   \n",
       "27  Please stop using the \"total\" field. Use \"tota...                A  ...   \n",
       "28  Please stop using the \"total\" field. Use \"tota...                C  ...   \n",
       "29  Please stop using the \"total\" field. Use \"tota...                D  ...   \n",
       "30  Please stop using the \"total\" field. Use \"tota...                B  ...   \n",
       "31  Please stop using the \"total\" field. Use \"tota...               A+  ...   \n",
       "32  Please stop using the \"total\" field. Use \"tota...                C  ...   \n",
       "33  Please stop using the \"total\" field. Use \"tota...                A  ...   \n",
       "34  Please stop using the \"total\" field. Use \"tota...                A  ...   \n",
       "35  Please stop using the \"total\" field. Use \"tota...                B  ...   \n",
       "36  Please stop using the \"total\" field. Use \"tota...               A+  ...   \n",
       "37  Please stop using the \"total\" field. Use \"tota...               A+  ...   \n",
       "38  Please stop using the \"total\" field. Use \"tota...                B  ...   \n",
       "39  Please stop using the \"total\" field. Use \"tota...               A+  ...   \n",
       "40  Please stop using the \"total\" field. Use \"tota...               A+  ...   \n",
       "41  Please stop using the \"total\" field. Use \"tota...                C  ...   \n",
       "42  Please stop using the \"total\" field. Use \"tota...                B  ...   \n",
       "43  Please stop using the \"total\" field. Use \"tota...                B  ...   \n",
       "44  Please stop using the \"total\" field. Use \"tota...                B  ...   \n",
       "45  Please stop using the \"total\" field. Use \"tota...               A+  ...   \n",
       "46  Please stop using the \"total\" field. Use \"tota...                B  ...   \n",
       "47  Please stop using the \"total\" field. Use \"tota...                B  ...   \n",
       "48  Please stop using the \"total\" field. Use \"tota...               A+  ...   \n",
       "49  Please stop using the \"total\" field. Use \"tota...                B  ...   \n",
       "50  Please stop using the \"total\" field. Use \"tota...                C  ...   \n",
       "51  Please stop using the \"total\" field. Use \"tota...                C  ...   \n",
       "52  Please stop using the \"total\" field. Use \"tota...                D  ...   \n",
       "53  Please stop using the \"total\" field. Use \"tota...                C  ...   \n",
       "54  Please stop using the \"total\" field. Use \"tota...                D  ...   \n",
       "55  Please stop using the \"total\" field. Use \"tota...                C  ...   \n",
       "\n",
       "    checkTimeEt  death  hospitalized    total  totalTestResults   posNeg  \\\n",
       "0    5/19 15:30     10           NaN    36380             36380    36380   \n",
       "1    5/19 15:38    504        1453.0   157566            157566   157566   \n",
       "2    5/19 17:52    102         535.0    93701             93701    93701   \n",
       "3    5/19 14:16    704        1746.0   161571            161571   161571   \n",
       "4    5/19 14:18   3334           NaN  1339316           1339316  1339316   \n",
       "5    5/19 15:54   1224        3899.0   131333            131333   131333   \n",
       "6    5/19 17:32   3472       10946.0   185520            185520   185520   \n",
       "7    5/19 14:46    400           NaN    39374             39374    39374   \n",
       "8    5/19 16:15    304           NaN    44132             44132    44132   \n",
       "9    5/19 15:00   2129        8744.0   717224            715855   715855   \n",
       "10   5/19 16:43   1664        7027.0   378156            378156   378156   \n",
       "11   5/19 17:22     17          82.0    45023             45023    45023   \n",
       "12   5/19 17:44    372           NaN   107648            107648   107648   \n",
       "13   5/19 16:29     74         213.0    38069             38069    38069   \n",
       "14   5/19 17:34   4379           NaN   621684            621684   621684   \n",
       "15   5/19 17:35   1824        4389.0   189330            189330   189330   \n",
       "16   5/19 18:57    173         740.0    66990             66990    66990   \n",
       "17   5/19 17:52    366        1980.0   153986            153986   153986   \n",
       "18   5/19 17:49   2581           NaN   278073            278073   278073   \n",
       "19   5/19 16:45   5938        8766.0   476940            476940   476940   \n",
       "20   5/19 17:37   2081        7199.0   208658            208658   208658   \n",
       "21   5/19 17:30     73         225.0    23833             23833    23833   \n",
       "22   5/19 15:41   5017           NaN   422904            422904   422904   \n",
       "23   5/19 16:22    757        2221.0   161835            161835   161835   \n",
       "24   5/19 17:32    616           NaN   154110            154110   154110   \n",
       "25   5/19 17:35    554        1840.0   117760            117760   117760   \n",
       "26   5/19 14:42     16          65.0    28950             28950    28950   \n",
       "27   5/19 14:45    691           NaN   265008            265008   265008   \n",
       "28   5/19 14:47     45         135.0    57731             57731    57731   \n",
       "29   5/19 14:50    125           NaN    69984             69984    69984   \n",
       "30   5/19 14:53    172         368.0    50348             49474    49474   \n",
       "31   5/19 14:56  10586           NaN   520182            520182   520182   \n",
       "32   5/19 15:38    270         886.0   137620            137620   137620   \n",
       "33   5/19 17:10    365           NaN    87555             87555    87555   \n",
       "34   5/19 15:31  22843       76168.0  1467739           1467739  1467739   \n",
       "35   5/19 16:44   1720        5117.0   277602            277602   277602   \n",
       "36   5/19 17:48    294         897.0   139147            139147   139147   \n",
       "37   5/19 17:25    140         714.0    99720             99720    99720   \n",
       "38   5/19 16:45   4624           NaN   349700            349700   349700   \n",
       "39   5/19 17:12    532        1464.0   117246            117246   117246   \n",
       "40   5/19 17:14    399        1444.0   135063            135063   135063   \n",
       "41   5/19 17:15     46         327.0    29709             29709    29709   \n",
       "42   5/19 17:20    305        1498.0   346123            346123   346123   \n",
       "43   5/19 17:43   1369           NaN   744937            744937   744937   \n",
       "44   5/19 17:48     80         595.0   174022            174022   174022   \n",
       "45   5/19 17:23   1041        5768.0   203262            202789   202789   \n",
       "46   5/19 17:25     54           NaN    24591             24591    24591   \n",
       "47   5/19 17:28   1002           NaN   289135            289135   289135   \n",
       "48   5/19 16:24    467        2110.0   161333            161122   161122   \n",
       "49   5/19 15:39     68           NaN    78301             78301    78301   \n",
       "50   5/19 15:06     10          73.0    17850             17850    17850   \n",
       "51   5/19 16:35    124           NaN     2805              2805     2805   \n",
       "52   5/19 16:20      0           NaN      124               124      124   \n",
       "53   5/19 16:57      5           NaN     4827              4827     4827   \n",
       "54   5/19 17:35      2           NaN     3817              3817     3817   \n",
       "55   5/19 17:31      6           NaN     1384              1367     1367   \n",
       "\n",
       "    fips          dateModified           dateChecked  \\\n",
       "0      2  2020-05-19T04:00:00Z  2020-05-19T19:30:00Z   \n",
       "1      1  2020-05-18T04:00:00Z  2020-05-19T19:38:00Z   \n",
       "2      5  2020-05-19T04:00:00Z  2020-05-19T21:52:00Z   \n",
       "3      4  2020-05-19T04:00:00Z  2020-05-19T18:16:00Z   \n",
       "4      6  2020-05-19T04:00:00Z  2020-05-19T18:18:00Z   \n",
       "5      8  2020-05-19T04:00:00Z  2020-05-19T19:54:00Z   \n",
       "6      9  2020-05-18T23:00:00Z  2020-05-19T21:32:00Z   \n",
       "7     11  2020-05-18T04:00:00Z  2020-05-19T18:46:00Z   \n",
       "8     10  2020-05-18T22:00:00Z  2020-05-19T20:15:00Z   \n",
       "9     12  2020-05-19T14:31:00Z  2020-05-19T19:00:00Z   \n",
       "10    13  2020-05-19T17:00:00Z  2020-05-19T20:43:00Z   \n",
       "11    15  2020-05-17T04:00:00Z  2020-05-19T21:22:00Z   \n",
       "12    19  2020-05-19T04:00:00Z  2020-05-19T21:44:00Z   \n",
       "13    16  2020-05-18T23:00:00Z  2020-05-19T20:29:00Z   \n",
       "14    17  2020-05-19T04:00:00Z  2020-05-19T21:34:00Z   \n",
       "15    18  2020-05-19T03:59:00Z  2020-05-19T21:35:00Z   \n",
       "16    20  2020-05-18T14:00:00Z  2020-05-19T22:57:00Z   \n",
       "17    21  2020-05-19T21:00:00Z  2020-05-19T21:52:00Z   \n",
       "18    22  2020-05-19T17:00:00Z  2020-05-19T21:49:00Z   \n",
       "19    25  2020-05-19T14:00:00Z  2020-05-19T20:45:00Z   \n",
       "20    24  2020-05-19T14:00:00Z  2020-05-19T21:37:00Z   \n",
       "21    23  2020-05-19T15:30:00Z  2020-05-19T21:30:00Z   \n",
       "22    26  2020-05-19T15:00:00Z  2020-05-19T19:41:00Z   \n",
       "23    27  2020-05-18T21:00:00Z  2020-05-19T20:22:00Z   \n",
       "24    29  2020-05-19T19:00:00Z  2020-05-19T21:32:00Z   \n",
       "25    28  2020-05-18T23:00:00Z  2020-05-19T21:35:00Z   \n",
       "26    30  2020-05-19T04:00:00Z  2020-05-19T18:42:00Z   \n",
       "27    37  2020-05-19T18:00:00Z  2020-05-19T18:45:00Z   \n",
       "28    38  2020-05-19T17:00:00Z  2020-05-19T18:47:00Z   \n",
       "29    31  2020-05-19T00:00:00Z  2020-05-19T18:50:00Z   \n",
       "30    33  2020-05-18T13:00:00Z  2020-05-19T18:53:00Z   \n",
       "31    34  2020-05-19T17:00:00Z  2020-05-19T18:56:00Z   \n",
       "32    35  2020-05-18T22:05:00Z  2020-05-19T19:38:00Z   \n",
       "33    32  2020-05-19T14:00:00Z  2020-05-19T21:10:00Z   \n",
       "34    36  2020-05-19T04:00:00Z  2020-05-19T19:31:00Z   \n",
       "35    39  2020-05-19T18:00:00Z  2020-05-19T20:44:00Z   \n",
       "36    40  2020-05-19T04:00:00Z  2020-05-19T21:48:00Z   \n",
       "37    41  2020-05-19T15:00:00Z  2020-05-19T21:25:00Z   \n",
       "38    42  2020-05-18T04:00:00Z  2020-05-19T20:45:00Z   \n",
       "39    44  2020-05-19T16:00:00Z  2020-05-19T21:12:00Z   \n",
       "40    45  2020-05-19T20:00:00Z  2020-05-19T21:14:00Z   \n",
       "41    46  2020-05-18T22:00:00Z  2020-05-19T21:15:00Z   \n",
       "42    47  2020-05-19T19:00:00Z  2020-05-19T21:20:00Z   \n",
       "43    48  2020-05-19T20:50:00Z  2020-05-19T21:43:00Z   \n",
       "44    49  2020-05-18T14:29:00Z  2020-05-19T21:48:00Z   \n",
       "45    51  2020-05-18T21:00:00Z  2020-05-19T21:23:00Z   \n",
       "46    50  2020-05-19T04:00:00Z  2020-05-19T21:25:00Z   \n",
       "47    53  2020-05-18T06:59:00Z  2020-05-19T21:28:00Z   \n",
       "48    55  2020-05-19T04:00:00Z  2020-05-19T20:24:00Z   \n",
       "49    54  2020-05-19T14:00:00Z  2020-05-19T19:39:00Z   \n",
       "50    56  2020-05-18T04:00:00Z  2020-05-19T19:06:00Z   \n",
       "51    72  2020-05-19T09:52:00Z  2020-05-19T20:35:00Z   \n",
       "52    60  2020-05-19T04:00:00Z  2020-05-19T20:20:00Z   \n",
       "53    66  2020-05-19T09:45:00Z  2020-05-19T20:57:00Z   \n",
       "54    69  2020-05-19T04:00:00Z  2020-05-19T21:35:00Z   \n",
       "55    78  2020-05-19T10:34:00Z  2020-05-19T21:31:00Z   \n",
       "\n",
       "                                        hash  \n",
       "0   5830c4e6b2bbfb7eb4f853751492e6af76e1d423  \n",
       "1   a9f818a90c2d692fb9046e2b0c0b3a05142746d4  \n",
       "2   34dd9ef35ebf02a037633ceb414e739a68b38e14  \n",
       "3   b3dc6933db82188e13c7a386daa03fd7a8082ba4  \n",
       "4   04a22035801e51eae2be36696d81972961f36629  \n",
       "5   679927a4c20eabcd73e9fd22475bb82dec6eee29  \n",
       "6   3529ec042de400e4d51e8f31b16df6f6401d1ce1  \n",
       "7   9b088e4de09e3ff7a4605d40168fb05f02c15a6f  \n",
       "8   0bc4e38d9f780e86ff888c4043303662ad31876f  \n",
       "9   7d125984db41a3923627376c6cf0573c6907494d  \n",
       "10  3b12a60e45ee8e8a5d6a86b1e73a3ad7b9486547  \n",
       "11  d06f2fa9db94776d7897f225e886dd7e4c9cf393  \n",
       "12  1fae38111abc50ab36102e080421c75e697af894  \n",
       "13  d5d7a66847b30c3000b2c729ecf6aea4aed66b82  \n",
       "14  06c7db238cab252724cb493a127d94828760bb9b  \n",
       "15  c51b3cbce0073799d54206cd165301aba7fa6ed7  \n",
       "16  6d90ca4d2659d03392f2dcb4f16b04cade786ce5  \n",
       "17  2e4fbdb3159210afbc8f41856c0cfde096b145d6  \n",
       "18  721e0a22d1b7fde8ca8b562e3ded355227fdd99e  \n",
       "19  70e26954ae197dc9c52d142ca8cbada7b63c0309  \n",
       "20  579c83757bfacc9f9dfd093664146aa85a89ed49  \n",
       "21  5c7f97a9a50611f521b3b3cb1c37ff39936dc6b1  \n",
       "22  81f44098f3daaf34c50905afba770f7a73e126ee  \n",
       "23  69fa177ad864c28ff062ebfec45595a5cf27232b  \n",
       "24  70fbe25599362393fdd6ee2c28827e9f138cd577  \n",
       "25  49f475c2de9208b4c1f67f72afdeb57478dc920c  \n",
       "26  f246bb3ccd3c0b1146164f3e6693f351f691e469  \n",
       "27  ffedad0cb617753fe510574104c482f25ee9693b  \n",
       "28  cb3958e972db8fc85c4faa7f808ac833cf145fcb  \n",
       "29  06852cf29e482be6d4869cae37b1660ee9d46ff7  \n",
       "30  8e44d5a7980f6b34c059cc796ad0610cea0a03bd  \n",
       "31  6e003e4f45a48934bbf678b2e0c8e396d6883ac0  \n",
       "32  9742a47ab86839ca14e776620e811933f67b4d25  \n",
       "33  f415ff8a9d72e349667a207f679c9e16fd46ad21  \n",
       "34  305bdada5e0c265f4e6ebf04639cc89ced5147fc  \n",
       "35  a39fa103f4f2d7a440052b86c12b7dd351de9a62  \n",
       "36  902dcceb1fa149ac09917f5b4a088fe216079459  \n",
       "37  8e1b679fec81d632e0d7e241134c1b5b2f791275  \n",
       "38  a7d541c37b1c878a9696c28e7758a09fe402a5c1  \n",
       "39  d10f825031519797bc240401fbb9477cf955d3b9  \n",
       "40  1339f1af3b63becb96608867b996c85b9d0c7bd0  \n",
       "41  f8b407aacc2e692ea65190d4c4ce40caf06d7271  \n",
       "42  e7c47faadd694dfe3780be46d68ca317ba2ecf1f  \n",
       "43  7d8d6d24974e9ed1f9d862a3813782f89c9e00e9  \n",
       "44  e108612bb9b2d08b8a2c06944f2a4d35b7b88cca  \n",
       "45  970f8db20d31a7722130041280d0e422ca480efc  \n",
       "46  5959b4a37002a720a30e93ae13dee2cc62736866  \n",
       "47  f398a77e9dbddf7d33f8e5d1628b28d644dc4871  \n",
       "48  04c587fe2a886fb6414cc9130296a61a7da0618f  \n",
       "49  eab816339291fb8a6ff547dfd3b9c17018075425  \n",
       "50  068713da0df7d788b1b414ecba0e92a5cd0ad379  \n",
       "51  1ac9b8a97301e9632ca1a65483e5ecdd5982a754  \n",
       "52  dd0a5ce2787aa979511f85de160a961d8ea3589f  \n",
       "53  1a2bbeb8a838cf1765b8bd7496d04b201a379b55  \n",
       "54  e32e527e54822013d0175f9efdc4f4597a32789e  \n",
       "55  f1aaa0fb3861a778016f544843839d77ea96f49a  \n",
       "\n",
       "[56 rows x 30 columns]"
      ]
     },
     "execution_count": 3,
     "metadata": {},
     "output_type": "execute_result"
    }
   ],
   "source": [
    "# Read csv\n",
    "USDataFilename = os.path.join('data', 'covidtracking', 'latest', 'current.csv')\n",
    "\n",
    "# This is the name of the old file\n",
    "# USDataFilename = os.path.join('data', 'covidtracking', 'latest', 'states.csv')\n",
    "USCovidFr = pd.read_csv(USDataFilename)\n",
    "\n",
    "# Fill NA in recovered and dead columns with 0 \n",
    "USCovidFr['recovered'].fillna(0, inplace=True)\n",
    "USCovidFr['death'].fillna(0, inplace=True)\n",
    "\n",
    "USCovidFr"
   ]
  },
  {
   "cell_type": "code",
   "execution_count": 4,
   "metadata": {},
   "outputs": [
    {
     "data": {
      "text/plain": [
       "['state',\n",
       " 'positive',\n",
       " 'positiveScore',\n",
       " 'negativeScore',\n",
       " 'negativeRegularScore',\n",
       " 'commercialScore',\n",
       " 'grade',\n",
       " 'score',\n",
       " 'notes',\n",
       " 'dataQualityGrade',\n",
       " 'negative',\n",
       " 'pending',\n",
       " 'hospitalizedCurrently',\n",
       " 'hospitalizedCumulative',\n",
       " 'inIcuCurrently',\n",
       " 'inIcuCumulative',\n",
       " 'onVentilatorCurrently',\n",
       " 'onVentilatorCumulative',\n",
       " 'recovered',\n",
       " 'lastUpdateEt',\n",
       " 'checkTimeEt',\n",
       " 'death',\n",
       " 'hospitalized',\n",
       " 'total',\n",
       " 'totalTestResults',\n",
       " 'posNeg',\n",
       " 'fips',\n",
       " 'dateModified',\n",
       " 'dateChecked',\n",
       " 'hash']"
      ]
     },
     "execution_count": 4,
     "metadata": {},
     "output_type": "execute_result"
    }
   ],
   "source": [
    "# Look at columns\n",
    "list(USCovidFr.columns)"
   ]
  },
  {
   "cell_type": "code",
   "execution_count": 5,
   "metadata": {},
   "outputs": [],
   "source": [
    "# Get closed cases ('death' + 'recovered')\n",
    "USCovidFr['closed'] = USCovidFr['death'] + USCovidFr['recovered']\n",
    "\n",
    "# Get open cases ('positive' - 'closed')\n",
    "USCovidFr['open'] = USCovidFr['positive'] - USCovidFr['closed']"
   ]
  },
  {
   "cell_type": "code",
   "execution_count": 6,
   "metadata": {},
   "outputs": [
    {
     "name": "stdout",
     "output_type": "stream",
     "text": [
      "                            OLS Regression Results                            \n",
      "==============================================================================\n",
      "Dep. Variable:           hospitalized   R-squared:                       0.957\n",
      "Model:                            OLS   Adj. R-squared:                  0.955\n",
      "Method:                 Least Squares   F-statistic:                     681.6\n",
      "Date:                Wed, 20 May 2020   Prob (F-statistic):           1.14e-22\n",
      "Time:                        12:59:38   Log-Likelihood:                -307.56\n",
      "No. Observations:                  33   AIC:                             619.1\n",
      "Df Residuals:                      31   BIC:                             622.1\n",
      "Df Model:                           1                                         \n",
      "Covariance Type:            nonrobust                                         \n",
      "==============================================================================\n",
      "                 coef    std err          t      P>|t|      [0.025      0.975]\n",
      "------------------------------------------------------------------------------\n",
      "Intercept   -723.4563    529.616     -1.366      0.182   -1803.616     356.703\n",
      "open           0.2689      0.010     26.108      0.000       0.248       0.290\n",
      "==============================================================================\n",
      "Omnibus:                       45.337   Durbin-Watson:                   2.020\n",
      "Prob(Omnibus):                  0.000   Jarque-Bera (JB):              232.074\n",
      "Skew:                          -2.823   Prob(JB):                     4.03e-51\n",
      "Kurtosis:                      14.701   Cond. No.                     5.62e+04\n",
      "==============================================================================\n",
      "\n",
      "Warnings:\n",
      "[1] Standard Errors assume that the covariance matrix of the errors is correctly specified.\n",
      "[2] The condition number is large, 5.62e+04. This might indicate that there are\n",
      "strong multicollinearity or other numerical problems.\n"
     ]
    },
    {
     "data": {
      "image/png": "[encoded data removed]",
      "text/plain": [
       "<Figure size 576x576 with 1 Axes>"
      ]
     },
     "metadata": {
      "needs_background": "light"
     },
     "output_type": "display_data"
    },
    {
     "data": {
      "image/png": "[encoded data removed]",
      "text/plain": [
       "<Figure size 720x720 with 4 Axes>"
      ]
     },
     "metadata": {
      "needs_background": "light"
     },
     "output_type": "display_data"
    }
   ],
   "source": [
    "# Plot hospitalization vs. open cases\n",
    "# Remove NA from hospitalized and open column\n",
    "USCovidCorrectedFr = USCovidFr.dropna(subset=['hospitalized', 'open'])\n",
    "plt.figure(figsize=(8,8))\n",
    "sns.regplot(x=\"open\",\n",
    "            y=\"hospitalized\",\n",
    "            data=USCovidCorrectedFr,\n",
    "            scatter_kws={'alpha':0.7,\n",
    "                         'edgecolor':'k',\n",
    "                         's':200},\n",
    "            line_kws={'color':'red'});\n",
    "plt.xlabel(\"Number of open cases\", fontsize=20);\n",
    "plt.ylabel(\"Number of hospitalized cases\", fontsize=20);\n",
    "\n",
    "# Check using metrics and diagnostic plots\n",
    "model = smf.ols(formula='hospitalized ~ open', data=USCovidCorrectedFr)\n",
    "results = model.fit()\n",
    "print(results.summary())\n",
    "\n",
    "dpR.all4DiagnosticPlots(results)"
   ]
  },
  {
   "cell_type": "code",
   "execution_count": 15,
   "metadata": {},
   "outputs": [
    {
     "data": {
      "application/vnd.plotly.v1+json": {
       "config": {
        "plotlyServerURL": "https://plot.ly"
       },
       "data": [
        {
         "customdata": [
          [
           "AR"
          ],
          [
           "AZ"
          ],
          [
           "IN"
          ],
          [
           "ME"
          ],
          [
           "MS"
          ],
          [
           "NY"
          ],
          [
           "OH"
          ],
          [
           "OR"
          ],
          [
           "RI"
          ],
          [
           "VA"
          ]
         ],
         "hoverlabel": {
          "namelength": 0
         },
         "hovertemplate": "open=%{x}<br>hospitalized=%{y}<br>pcHospitalized=%{marker.size}<br>state=%{customdata[0]}<br>pcPositive=%{marker.color}",
         "legendgroup": "",
         "marker": {
          "color": [
           0.052539460624753204,
           0.09015231693806439,
           0.1516135847462103,
           0.07304997272689129,
           0.09938858695652174,
           0.24040037091063193,
           0.10429319673489384,
           0.037364620938628156,
           0.11046005833887723,
           0.15851451508711026
          ],
          "coloraxis": "coloraxis",
          "line": {
           "color": "DarkSlateGrey",
           "width": 1
          },
          "opacity": 0.7,
          "size": [
           0.4944547134935305,
           0.17169829875110632,
           0.16327517577471076,
           0.3879310344827586,
           0.5304122225425194,
           0.28408599263005563,
           0.1879039365452409,
           0.3275229357798165,
           0.12846612846612845,
           0.21495919203965266
          ],
          "sizemode": "area",
          "sizeref": 0.0013260305563562984,
          "symbol": "circle"
         },
         "mode": "markers",
         "name": "",
         "showlegend": false,
         "type": "scatter",
         "x": [
          1082,
          10169,
          26881,
          580,
          3469,
          268116,
          27232,
          2180,
          11396,
          26833
         ],
         "xaxis": "x",
         "y": [
          535,
          1746,
          4389,
          225,
          1840,
          76168,
          5117,
          714,
          1464,
          5768
         ],
         "yaxis": "y"
        },
        {
         "hoverlabel": {
          "namelength": 0
         },
         "hovertemplate": "<b>OLS trendline</b><br>hospitalized = 0.28606 * open + -1014.7<br>R<sup>2</sup>=0.996547<br><br>open=%{x}<br>hospitalized=%{y} <b>(trend)</b>",
         "legendgroup": "",
         "line": {
          "color": "burlywood",
          "width": 4
         },
         "marker": {
          "symbol": "circle"
         },
         "mode": "lines",
         "name": "",
         "showlegend": false,
         "type": "scatter",
         "x": [
          580,
          1082,
          2180,
          3469,
          10169,
          11396,
          26833,
          26881,
          27232,
          268116
         ],
         "xaxis": "x",
         "y": [
          -848.7821844515402,
          -705.1800299659817,
          -391.0860745374098,
          -22.35464598783858,
          1894.247814277582,
          2245.2435185679806,
          6661.15279903325,
          6674.883682330673,
          6775.290766443086,
          75682.58435429019
         ],
         "yaxis": "y"
        }
       ],
       "layout": {
        "coloraxis": {
         "colorbar": {
          "title": {
           "text": "pcPositive"
          }
         },
         "colorscale": [
          [
           0,
           "#0d0887"
          ],
          [
           0.1111111111111111,
           "#46039f"
          ],
          [
           0.2222222222222222,
           "#7201a8"
          ],
          [
           0.3333333333333333,
           "#9c179e"
          ],
          [
           0.4444444444444444,
           "#bd3786"
          ],
          [
           0.5555555555555556,
           "#d8576b"
          ],
          [
           0.6666666666666666,
           "#ed7953"
          ],
          [
           0.7777777777777778,
           "#fb9f3a"
          ],
          [
           0.8888888888888888,
           "#fdca26"
          ],
          [
           1,
           "#f0f921"
          ]
         ]
        },
        "legend": {
         "itemsizing": "constant",
         "tracegroupgap": 0
        },
        "margin": {
         "t": 60
        },
        "template": {
         "data": {
          "bar": [
           {
            "error_x": {
             "color": "#2a3f5f"
            },
            "error_y": {
             "color": "#2a3f5f"
            },
            "marker": {
             "line": {
              "color": "#E5ECF6",
              "width": 0.5
             }
            },
            "type": "bar"
           }
          ],
          "barpolar": [
           {
            "marker": {
             "line": {
              "color": "#E5ECF6",
              "width": 0.5
             }
            },
            "type": "barpolar"
           }
          ],
          "carpet": [
           {
            "aaxis": {
             "endlinecolor": "#2a3f5f",
             "gridcolor": "white",
             "linecolor": "white",
             "minorgridcolor": "white",
             "startlinecolor": "#2a3f5f"
            },
            "baxis": {
             "endlinecolor": "#2a3f5f",
             "gridcolor": "white",
             "linecolor": "white",
             "minorgridcolor": "white",
             "startlinecolor": "#2a3f5f"
            },
            "type": "carpet"
           }
          ],
          "choropleth": [
           {
            "colorbar": {
             "outlinewidth": 0,
             "ticks": ""
            },
            "type": "choropleth"
           }
          ],
          "contour": [
           {
            "colorbar": {
             "outlinewidth": 0,
             "ticks": ""
            },
            "colorscale": [
             [
              0,
              "#0d0887"
             ],
             [
              0.1111111111111111,
              "#46039f"
             ],
             [
              0.2222222222222222,
              "#7201a8"
             ],
             [
              0.3333333333333333,
              "#9c179e"
             ],
             [
              0.4444444444444444,
              "#bd3786"
             ],
             [
              0.5555555555555556,
              "#d8576b"
             ],
             [
              0.6666666666666666,
              "#ed7953"
             ],
             [
              0.7777777777777778,
              "#fb9f3a"
             ],
             [
              0.8888888888888888,
              "#fdca26"
             ],
             [
              1,
              "#f0f921"
             ]
            ],
            "type": "contour"
           }
          ],
          "contourcarpet": [
           {
            "colorbar": {
             "outlinewidth": 0,
             "ticks": ""
            },
            "type": "contourcarpet"
           }
          ],
          "heatmap": [
           {
            "colorbar": {
             "outlinewidth": 0,
             "ticks": ""
            },
            "colorscale": [
             [
              0,
              "#0d0887"
             ],
             [
              0.1111111111111111,
              "#46039f"
             ],
             [
              0.2222222222222222,
              "#7201a8"
             ],
             [
              0.3333333333333333,
              "#9c179e"
             ],
             [
              0.4444444444444444,
              "#bd3786"
             ],
             [
              0.5555555555555556,
              "#d8576b"
             ],
             [
              0.6666666666666666,
              "#ed7953"
             ],
             [
              0.7777777777777778,
              "#fb9f3a"
             ],
             [
              0.8888888888888888,
              "#fdca26"
             ],
             [
              1,
              "#f0f921"
             ]
            ],
            "type": "heatmap"
           }
          ],
          "heatmapgl": [
           {
            "colorbar": {
             "outlinewidth": 0,
             "ticks": ""
            },
            "colorscale": [
             [
              0,
              "#0d0887"
             ],
             [
              0.1111111111111111,
              "#46039f"
             ],
             [
              0.2222222222222222,
              "#7201a8"
             ],
             [
              0.3333333333333333,
              "#9c179e"
             ],
             [
              0.4444444444444444,
              "#bd3786"
             ],
             [
              0.5555555555555556,
              "#d8576b"
             ],
             [
              0.6666666666666666,
              "#ed7953"
             ],
             [
              0.7777777777777778,
              "#fb9f3a"
             ],
             [
              0.8888888888888888,
              "#fdca26"
             ],
             [
              1,
              "#f0f921"
             ]
            ],
            "type": "heatmapgl"
           }
          ],
          "histogram": [
           {
            "marker": {
             "colorbar": {
              "outlinewidth": 0,
              "ticks": ""
             }
            },
            "type": "histogram"
           }
          ],
          "histogram2d": [
           {
            "colorbar": {
             "outlinewidth": 0,
             "ticks": ""
            },
            "colorscale": [
             [
              0,
              "#0d0887"
             ],
             [
              0.1111111111111111,
              "#46039f"
             ],
             [
              0.2222222222222222,
              "#7201a8"
             ],
             [
              0.3333333333333333,
              "#9c179e"
             ],
             [
              0.4444444444444444,
              "#bd3786"
             ],
             [
              0.5555555555555556,
              "#d8576b"
             ],
             [
              0.6666666666666666,
              "#ed7953"
             ],
             [
              0.7777777777777778,
              "#fb9f3a"
             ],
             [
              0.8888888888888888,
              "#fdca26"
             ],
             [
              1,
              "#f0f921"
             ]
            ],
            "type": "histogram2d"
           }
          ],
          "histogram2dcontour": [
           {
            "colorbar": {
             "outlinewidth": 0,
             "ticks": ""
            },
            "colorscale": [
             [
              0,
              "#0d0887"
             ],
             [
              0.1111111111111111,
              "#46039f"
             ],
             [
              0.2222222222222222,
              "#7201a8"
             ],
             [
              0.3333333333333333,
              "#9c179e"
             ],
             [
              0.4444444444444444,
              "#bd3786"
             ],
             [
              0.5555555555555556,
              "#d8576b"
             ],
             [
              0.6666666666666666,
              "#ed7953"
             ],
             [
              0.7777777777777778,
              "#fb9f3a"
             ],
             [
              0.8888888888888888,
              "#fdca26"
             ],
             [
              1,
              "#f0f921"
             ]
            ],
            "type": "histogram2dcontour"
           }
          ],
          "mesh3d": [
           {
            "colorbar": {
             "outlinewidth": 0,
             "ticks": ""
            },
            "type": "mesh3d"
           }
          ],
          "parcoords": [
           {
            "line": {
             "colorbar": {
              "outlinewidth": 0,
              "ticks": ""
             }
            },
            "type": "parcoords"
           }
          ],
          "pie": [
           {
            "automargin": true,
            "type": "pie"
           }
          ],
          "scatter": [
           {
            "marker": {
             "colorbar": {
              "outlinewidth": 0,
              "ticks": ""
             }
            },
            "type": "scatter"
           }
          ],
          "scatter3d": [
           {
            "line": {
             "colorbar": {
              "outlinewidth": 0,
              "ticks": ""
             }
            },
            "marker": {
             "colorbar": {
              "outlinewidth": 0,
              "ticks": ""
             }
            },
            "type": "scatter3d"
           }
          ],
          "scattercarpet": [
           {
            "marker": {
             "colorbar": {
              "outlinewidth": 0,
              "ticks": ""
             }
            },
            "type": "scattercarpet"
           }
          ],
          "scattergeo": [
           {
            "marker": {
             "colorbar": {
              "outlinewidth": 0,
              "ticks": ""
             }
            },
            "type": "scattergeo"
           }
          ],
          "scattergl": [
           {
            "marker": {
             "colorbar": {
              "outlinewidth": 0,
              "ticks": ""
             }
            },
            "type": "scattergl"
           }
          ],
          "scattermapbox": [
           {
            "marker": {
             "colorbar": {
              "outlinewidth": 0,
              "ticks": ""
             }
            },
            "type": "scattermapbox"
           }
          ],
          "scatterpolar": [
           {
            "marker": {
             "colorbar": {
              "outlinewidth": 0,
              "ticks": ""
             }
            },
            "type": "scatterpolar"
           }
          ],
          "scatterpolargl": [
           {
            "marker": {
             "colorbar": {
              "outlinewidth": 0,
              "ticks": ""
             }
            },
            "type": "scatterpolargl"
           }
          ],
          "scatterternary": [
           {
            "marker": {
             "colorbar": {
              "outlinewidth": 0,
              "ticks": ""
             }
            },
            "type": "scatterternary"
           }
          ],
          "surface": [
           {
            "colorbar": {
             "outlinewidth": 0,
             "ticks": ""
            },
            "colorscale": [
             [
              0,
              "#0d0887"
             ],
             [
              0.1111111111111111,
              "#46039f"
             ],
             [
              0.2222222222222222,
              "#7201a8"
             ],
             [
              0.3333333333333333,
              "#9c179e"
             ],
             [
              0.4444444444444444,
              "#bd3786"
             ],
             [
              0.5555555555555556,
              "#d8576b"
             ],
             [
              0.6666666666666666,
              "#ed7953"
             ],
             [
              0.7777777777777778,
              "#fb9f3a"
             ],
             [
              0.8888888888888888,
              "#fdca26"
             ],
             [
              1,
              "#f0f921"
             ]
            ],
            "type": "surface"
           }
          ],
          "table": [
           {
            "cells": {
             "fill": {
              "color": "#EBF0F8"
             },
             "line": {
              "color": "white"
             }
            },
            "header": {
             "fill": {
              "color": "#C8D4E3"
             },
             "line": {
              "color": "white"
             }
            },
            "type": "table"
           }
          ]
         },
         "layout": {
          "annotationdefaults": {
           "arrowcolor": "#2a3f5f",
           "arrowhead": 0,
           "arrowwidth": 1
          },
          "coloraxis": {
           "colorbar": {
            "outlinewidth": 0,
            "ticks": ""
           }
          },
          "colorscale": {
           "diverging": [
            [
             0,
             "#8e0152"
            ],
            [
             0.1,
             "#c51b7d"
            ],
            [
             0.2,
             "#de77ae"
            ],
            [
             0.3,
             "#f1b6da"
            ],
            [
             0.4,
             "#fde0ef"
            ],
            [
             0.5,
             "#f7f7f7"
            ],
            [
             0.6,
             "#e6f5d0"
            ],
            [
             0.7,
             "#b8e186"
            ],
            [
             0.8,
             "#7fbc41"
            ],
            [
             0.9,
             "#4d9221"
            ],
            [
             1,
             "#276419"
            ]
           ],
           "sequential": [
            [
             0,
             "#0d0887"
            ],
            [
             0.1111111111111111,
             "#46039f"
            ],
            [
             0.2222222222222222,
             "#7201a8"
            ],
            [
             0.3333333333333333,
             "#9c179e"
            ],
            [
             0.4444444444444444,
             "#bd3786"
            ],
            [
             0.5555555555555556,
             "#d8576b"
            ],
            [
             0.6666666666666666,
             "#ed7953"
            ],
            [
             0.7777777777777778,
             "#fb9f3a"
            ],
            [
             0.8888888888888888,
             "#fdca26"
            ],
            [
             1,
             "#f0f921"
            ]
           ],
           "sequentialminus": [
            [
             0,
             "#0d0887"
            ],
            [
             0.1111111111111111,
             "#46039f"
            ],
            [
             0.2222222222222222,
             "#7201a8"
            ],
            [
             0.3333333333333333,
             "#9c179e"
            ],
            [
             0.4444444444444444,
             "#bd3786"
            ],
            [
             0.5555555555555556,
             "#d8576b"
            ],
            [
             0.6666666666666666,
             "#ed7953"
            ],
            [
             0.7777777777777778,
             "#fb9f3a"
            ],
            [
             0.8888888888888888,
             "#fdca26"
            ],
            [
             1,
             "#f0f921"
            ]
           ]
          },
          "colorway": [
           "#636efa",
           "#EF553B",
           "#00cc96",
           "#ab63fa",
           "#FFA15A",
           "#19d3f3",
           "#FF6692",
           "#B6E880",
           "#FF97FF",
           "#FECB52"
          ],
          "font": {
           "color": "#2a3f5f"
          },
          "geo": {
           "bgcolor": "white",
           "lakecolor": "white",
           "landcolor": "#E5ECF6",
           "showlakes": true,
           "showland": true,
           "subunitcolor": "white"
          },
          "hoverlabel": {
           "align": "left"
          },
          "hovermode": "closest",
          "mapbox": {
           "style": "light"
          },
          "paper_bgcolor": "white",
          "plot_bgcolor": "#E5ECF6",
          "polar": {
           "angularaxis": {
            "gridcolor": "white",
            "linecolor": "white",
            "ticks": ""
           },
           "bgcolor": "#E5ECF6",
           "radialaxis": {
            "gridcolor": "white",
            "linecolor": "white",
            "ticks": ""
           }
          },
          "scene": {
           "xaxis": {
            "backgroundcolor": "#E5ECF6",
            "gridcolor": "white",
            "gridwidth": 2,
            "linecolor": "white",
            "showbackground": true,
            "ticks": "",
            "zerolinecolor": "white"
           },
           "yaxis": {
            "backgroundcolor": "#E5ECF6",
            "gridcolor": "white",
            "gridwidth": 2,
            "linecolor": "white",
            "showbackground": true,
            "ticks": "",
            "zerolinecolor": "white"
           },
           "zaxis": {
            "backgroundcolor": "#E5ECF6",
            "gridcolor": "white",
            "gridwidth": 2,
            "linecolor": "white",
            "showbackground": true,
            "ticks": "",
            "zerolinecolor": "white"
           }
          },
          "shapedefaults": {
           "line": {
            "color": "#2a3f5f"
           }
          },
          "ternary": {
           "aaxis": {
            "gridcolor": "white",
            "linecolor": "white",
            "ticks": ""
           },
           "baxis": {
            "gridcolor": "white",
            "linecolor": "white",
            "ticks": ""
           },
           "bgcolor": "#E5ECF6",
           "caxis": {
            "gridcolor": "white",
            "linecolor": "white",
            "ticks": ""
           }
          },
          "title": {
           "x": 0.05
          },
          "xaxis": {
           "automargin": true,
           "gridcolor": "white",
           "linecolor": "white",
           "ticks": "",
           "title": {
            "standoff": 15
           },
           "zerolinecolor": "white",
           "zerolinewidth": 2
          },
          "yaxis": {
           "automargin": true,
           "gridcolor": "white",
           "linecolor": "white",
           "ticks": "",
           "title": {
            "standoff": 15
           },
           "zerolinecolor": "white",
           "zerolinewidth": 2
          }
         }
        },
        "title": {
         "text": "Hospitalization vs. Open Cases"
        },
        "xaxis": {
         "anchor": "y",
         "domain": [
          0,
          1
         ],
         "title": {
          "text": "Number of open cases"
         }
        },
        "yaxis": {
         "anchor": "x",
         "domain": [
          0,
          1
         ],
         "title": {
          "text": "Number of hospitalizations"
         }
        }
       }
      },
      "text/html": [
       "<div>\n",
       "        \n",
       "        \n",
       "            <div id=\"ecdc3475-e104-49e8-92fc-78aaf315241e\" class=\"plotly-graph-div\" style=\"height:525px; width:100%;\"></div>\n",
       "            <script type=\"text/javascript\">\n",
       "                require([\"plotly\"], function(Plotly) {\n",
       "                    window.PLOTLYENV=window.PLOTLYENV || {};\n",
       "                    \n",
       "                if (document.getElementById(\"ecdc3475-e104-49e8-92fc-78aaf315241e\")) {\n",
       "                    Plotly.newPlot(\n",
       "                        'ecdc3475-e104-49e8-92fc-78aaf315241e',\n",
       "                        [{\"customdata\": [[\"AR\"], [\"AZ\"], [\"IN\"], [\"ME\"], [\"MS\"], [\"NY\"], [\"OH\"], [\"OR\"], [\"RI\"], [\"VA\"]], \"hoverlabel\": {\"namelength\": 0}, \"hovertemplate\": \"open=%{x}<br>hospitalized=%{y}<br>pcHospitalized=%{marker.size}<br>state=%{customdata[0]}<br>pcPositive=%{marker.color}\", \"legendgroup\": \"\", \"marker\": {\"color\": [0.052539460624753204, 0.09015231693806439, 0.1516135847462103, 0.07304997272689129, 0.09938858695652174, 0.24040037091063193, 0.10429319673489384, 0.037364620938628156, 0.11046005833887723, 0.15851451508711026], \"coloraxis\": \"coloraxis\", \"line\": {\"color\": \"DarkSlateGrey\", \"width\": 1}, \"opacity\": 0.7, \"size\": [0.4944547134935305, 0.17169829875110632, 0.16327517577471076, 0.3879310344827586, 0.5304122225425194, 0.28408599263005563, 0.1879039365452409, 0.3275229357798165, 0.12846612846612845, 0.21495919203965266], \"sizemode\": \"area\", \"sizeref\": 0.0013260305563562984, \"symbol\": \"circle\"}, \"mode\": \"markers\", \"name\": \"\", \"showlegend\": false, \"type\": \"scatter\", \"x\": [1082.0, 10169.0, 26881.0, 580.0, 3469.0, 268116.0, 27232.0, 2180.0, 11396.0, 26833.0], \"xaxis\": \"x\", \"y\": [535.0, 1746.0, 4389.0, 225.0, 1840.0, 76168.0, 5117.0, 714.0, 1464.0, 5768.0], \"yaxis\": \"y\"}, {\"hoverlabel\": {\"namelength\": 0}, \"hovertemplate\": \"<b>OLS trendline</b><br>hospitalized = 0.28606 * open + -1014.7<br>R<sup>2</sup>=0.996547<br><br>open=%{x}<br>hospitalized=%{y} <b>(trend)</b>\", \"legendgroup\": \"\", \"line\": {\"color\": \"burlywood\", \"width\": 4}, \"marker\": {\"symbol\": \"circle\"}, \"mode\": \"lines\", \"name\": \"\", \"showlegend\": false, \"type\": \"scatter\", \"x\": [580.0, 1082.0, 2180.0, 3469.0, 10169.0, 11396.0, 26833.0, 26881.0, 27232.0, 268116.0], \"xaxis\": \"x\", \"y\": [-848.7821844515402, -705.1800299659817, -391.0860745374098, -22.35464598783858, 1894.247814277582, 2245.2435185679806, 6661.15279903325, 6674.883682330673, 6775.290766443086, 75682.58435429019], \"yaxis\": \"y\"}],\n",
       "                        {\"coloraxis\": {\"colorbar\": {\"title\": {\"text\": \"pcPositive\"}}, \"colorscale\": [[0.0, \"#0d0887\"], [0.1111111111111111, \"#46039f\"], [0.2222222222222222, \"#7201a8\"], [0.3333333333333333, \"#9c179e\"], [0.4444444444444444, \"#bd3786\"], [0.5555555555555556, \"#d8576b\"], [0.6666666666666666, \"#ed7953\"], [0.7777777777777778, \"#fb9f3a\"], [0.8888888888888888, \"#fdca26\"], [1.0, \"#f0f921\"]]}, \"legend\": {\"itemsizing\": \"constant\", \"tracegroupgap\": 0}, \"margin\": {\"t\": 60}, \"template\": {\"data\": {\"bar\": [{\"error_x\": {\"color\": \"#2a3f5f\"}, \"error_y\": {\"color\": \"#2a3f5f\"}, \"marker\": {\"line\": {\"color\": \"#E5ECF6\", \"width\": 0.5}}, \"type\": \"bar\"}], \"barpolar\": [{\"marker\": {\"line\": {\"color\": \"#E5ECF6\", \"width\": 0.5}}, \"type\": \"barpolar\"}], \"carpet\": [{\"aaxis\": {\"endlinecolor\": \"#2a3f5f\", \"gridcolor\": \"white\", \"linecolor\": \"white\", \"minorgridcolor\": \"white\", \"startlinecolor\": \"#2a3f5f\"}, \"baxis\": {\"endlinecolor\": \"#2a3f5f\", \"gridcolor\": \"white\", \"linecolor\": \"white\", \"minorgridcolor\": \"white\", \"startlinecolor\": \"#2a3f5f\"}, \"type\": \"carpet\"}], \"choropleth\": [{\"colorbar\": {\"outlinewidth\": 0, \"ticks\": \"\"}, \"type\": \"choropleth\"}], \"contour\": [{\"colorbar\": {\"outlinewidth\": 0, \"ticks\": \"\"}, \"colorscale\": [[0.0, \"#0d0887\"], [0.1111111111111111, \"#46039f\"], [0.2222222222222222, \"#7201a8\"], [0.3333333333333333, \"#9c179e\"], [0.4444444444444444, \"#bd3786\"], [0.5555555555555556, \"#d8576b\"], [0.6666666666666666, \"#ed7953\"], [0.7777777777777778, \"#fb9f3a\"], [0.8888888888888888, \"#fdca26\"], [1.0, \"#f0f921\"]], \"type\": \"contour\"}], \"contourcarpet\": [{\"colorbar\": {\"outlinewidth\": 0, \"ticks\": \"\"}, \"type\": \"contourcarpet\"}], \"heatmap\": [{\"colorbar\": {\"outlinewidth\": 0, \"ticks\": \"\"}, \"colorscale\": [[0.0, \"#0d0887\"], [0.1111111111111111, \"#46039f\"], [0.2222222222222222, \"#7201a8\"], [0.3333333333333333, \"#9c179e\"], [0.4444444444444444, \"#bd3786\"], [0.5555555555555556, \"#d8576b\"], [0.6666666666666666, \"#ed7953\"], [0.7777777777777778, \"#fb9f3a\"], [0.8888888888888888, \"#fdca26\"], [1.0, \"#f0f921\"]], \"type\": \"heatmap\"}], \"heatmapgl\": [{\"colorbar\": {\"outlinewidth\": 0, \"ticks\": \"\"}, \"colorscale\": [[0.0, \"#0d0887\"], [0.1111111111111111, \"#46039f\"], [0.2222222222222222, \"#7201a8\"], [0.3333333333333333, \"#9c179e\"], [0.4444444444444444, \"#bd3786\"], [0.5555555555555556, \"#d8576b\"], [0.6666666666666666, \"#ed7953\"], [0.7777777777777778, \"#fb9f3a\"], [0.8888888888888888, \"#fdca26\"], [1.0, \"#f0f921\"]], \"type\": \"heatmapgl\"}], \"histogram\": [{\"marker\": {\"colorbar\": {\"outlinewidth\": 0, \"ticks\": \"\"}}, \"type\": \"histogram\"}], \"histogram2d\": [{\"colorbar\": {\"outlinewidth\": 0, \"ticks\": \"\"}, \"colorscale\": [[0.0, \"#0d0887\"], [0.1111111111111111, \"#46039f\"], [0.2222222222222222, \"#7201a8\"], [0.3333333333333333, \"#9c179e\"], [0.4444444444444444, \"#bd3786\"], [0.5555555555555556, \"#d8576b\"], [0.6666666666666666, \"#ed7953\"], [0.7777777777777778, \"#fb9f3a\"], [0.8888888888888888, \"#fdca26\"], [1.0, \"#f0f921\"]], \"type\": \"histogram2d\"}], \"histogram2dcontour\": [{\"colorbar\": {\"outlinewidth\": 0, \"ticks\": \"\"}, \"colorscale\": [[0.0, \"#0d0887\"], [0.1111111111111111, \"#46039f\"], [0.2222222222222222, \"#7201a8\"], [0.3333333333333333, \"#9c179e\"], [0.4444444444444444, \"#bd3786\"], [0.5555555555555556, \"#d8576b\"], [0.6666666666666666, \"#ed7953\"], [0.7777777777777778, \"#fb9f3a\"], [0.8888888888888888, \"#fdca26\"], [1.0, \"#f0f921\"]], \"type\": \"histogram2dcontour\"}], \"mesh3d\": [{\"colorbar\": {\"outlinewidth\": 0, \"ticks\": \"\"}, \"type\": \"mesh3d\"}], \"parcoords\": [{\"line\": {\"colorbar\": {\"outlinewidth\": 0, \"ticks\": \"\"}}, \"type\": \"parcoords\"}], \"pie\": [{\"automargin\": true, \"type\": \"pie\"}], \"scatter\": [{\"marker\": {\"colorbar\": {\"outlinewidth\": 0, \"ticks\": \"\"}}, \"type\": \"scatter\"}], \"scatter3d\": [{\"line\": {\"colorbar\": {\"outlinewidth\": 0, \"ticks\": \"\"}}, \"marker\": {\"colorbar\": {\"outlinewidth\": 0, \"ticks\": \"\"}}, \"type\": \"scatter3d\"}], \"scattercarpet\": [{\"marker\": {\"colorbar\": {\"outlinewidth\": 0, \"ticks\": \"\"}}, \"type\": \"scattercarpet\"}], \"scattergeo\": [{\"marker\": {\"colorbar\": {\"outlinewidth\": 0, \"ticks\": \"\"}}, \"type\": \"scattergeo\"}], \"scattergl\": [{\"marker\": {\"colorbar\": {\"outlinewidth\": 0, \"ticks\": \"\"}}, \"type\": \"scattergl\"}], \"scattermapbox\": [{\"marker\": {\"colorbar\": {\"outlinewidth\": 0, \"ticks\": \"\"}}, \"type\": \"scattermapbox\"}], \"scatterpolar\": [{\"marker\": {\"colorbar\": {\"outlinewidth\": 0, \"ticks\": \"\"}}, \"type\": \"scatterpolar\"}], \"scatterpolargl\": [{\"marker\": {\"colorbar\": {\"outlinewidth\": 0, \"ticks\": \"\"}}, \"type\": \"scatterpolargl\"}], \"scatterternary\": [{\"marker\": {\"colorbar\": {\"outlinewidth\": 0, \"ticks\": \"\"}}, \"type\": \"scatterternary\"}], \"surface\": [{\"colorbar\": {\"outlinewidth\": 0, \"ticks\": \"\"}, \"colorscale\": [[0.0, \"#0d0887\"], [0.1111111111111111, \"#46039f\"], [0.2222222222222222, \"#7201a8\"], [0.3333333333333333, \"#9c179e\"], [0.4444444444444444, \"#bd3786\"], [0.5555555555555556, \"#d8576b\"], [0.6666666666666666, \"#ed7953\"], [0.7777777777777778, \"#fb9f3a\"], [0.8888888888888888, \"#fdca26\"], [1.0, \"#f0f921\"]], \"type\": \"surface\"}], \"table\": [{\"cells\": {\"fill\": {\"color\": \"#EBF0F8\"}, \"line\": {\"color\": \"white\"}}, \"header\": {\"fill\": {\"color\": \"#C8D4E3\"}, \"line\": {\"color\": \"white\"}}, \"type\": \"table\"}]}, \"layout\": {\"annotationdefaults\": {\"arrowcolor\": \"#2a3f5f\", \"arrowhead\": 0, \"arrowwidth\": 1}, \"coloraxis\": {\"colorbar\": {\"outlinewidth\": 0, \"ticks\": \"\"}}, \"colorscale\": {\"diverging\": [[0, \"#8e0152\"], [0.1, \"#c51b7d\"], [0.2, \"#de77ae\"], [0.3, \"#f1b6da\"], [0.4, \"#fde0ef\"], [0.5, \"#f7f7f7\"], [0.6, \"#e6f5d0\"], [0.7, \"#b8e186\"], [0.8, \"#7fbc41\"], [0.9, \"#4d9221\"], [1, \"#276419\"]], \"sequential\": [[0.0, \"#0d0887\"], [0.1111111111111111, \"#46039f\"], [0.2222222222222222, \"#7201a8\"], [0.3333333333333333, \"#9c179e\"], [0.4444444444444444, \"#bd3786\"], [0.5555555555555556, \"#d8576b\"], [0.6666666666666666, \"#ed7953\"], [0.7777777777777778, \"#fb9f3a\"], [0.8888888888888888, \"#fdca26\"], [1.0, \"#f0f921\"]], \"sequentialminus\": [[0.0, \"#0d0887\"], [0.1111111111111111, \"#46039f\"], [0.2222222222222222, \"#7201a8\"], [0.3333333333333333, \"#9c179e\"], [0.4444444444444444, \"#bd3786\"], [0.5555555555555556, \"#d8576b\"], [0.6666666666666666, \"#ed7953\"], [0.7777777777777778, \"#fb9f3a\"], [0.8888888888888888, \"#fdca26\"], [1.0, \"#f0f921\"]]}, \"colorway\": [\"#636efa\", \"#EF553B\", \"#00cc96\", \"#ab63fa\", \"#FFA15A\", \"#19d3f3\", \"#FF6692\", \"#B6E880\", \"#FF97FF\", \"#FECB52\"], \"font\": {\"color\": \"#2a3f5f\"}, \"geo\": {\"bgcolor\": \"white\", \"lakecolor\": \"white\", \"landcolor\": \"#E5ECF6\", \"showlakes\": true, \"showland\": true, \"subunitcolor\": \"white\"}, \"hoverlabel\": {\"align\": \"left\"}, \"hovermode\": \"closest\", \"mapbox\": {\"style\": \"light\"}, \"paper_bgcolor\": \"white\", \"plot_bgcolor\": \"#E5ECF6\", \"polar\": {\"angularaxis\": {\"gridcolor\": \"white\", \"linecolor\": \"white\", \"ticks\": \"\"}, \"bgcolor\": \"#E5ECF6\", \"radialaxis\": {\"gridcolor\": \"white\", \"linecolor\": \"white\", \"ticks\": \"\"}}, \"scene\": {\"xaxis\": {\"backgroundcolor\": \"#E5ECF6\", \"gridcolor\": \"white\", \"gridwidth\": 2, \"linecolor\": \"white\", \"showbackground\": true, \"ticks\": \"\", \"zerolinecolor\": \"white\"}, \"yaxis\": {\"backgroundcolor\": \"#E5ECF6\", \"gridcolor\": \"white\", \"gridwidth\": 2, \"linecolor\": \"white\", \"showbackground\": true, \"ticks\": \"\", \"zerolinecolor\": \"white\"}, \"zaxis\": {\"backgroundcolor\": \"#E5ECF6\", \"gridcolor\": \"white\", \"gridwidth\": 2, \"linecolor\": \"white\", \"showbackground\": true, \"ticks\": \"\", \"zerolinecolor\": \"white\"}}, \"shapedefaults\": {\"line\": {\"color\": \"#2a3f5f\"}}, \"ternary\": {\"aaxis\": {\"gridcolor\": \"white\", \"linecolor\": \"white\", \"ticks\": \"\"}, \"baxis\": {\"gridcolor\": \"white\", \"linecolor\": \"white\", \"ticks\": \"\"}, \"bgcolor\": \"#E5ECF6\", \"caxis\": {\"gridcolor\": \"white\", \"linecolor\": \"white\", \"ticks\": \"\"}}, \"title\": {\"x\": 0.05}, \"xaxis\": {\"automargin\": true, \"gridcolor\": \"white\", \"linecolor\": \"white\", \"ticks\": \"\", \"title\": {\"standoff\": 15}, \"zerolinecolor\": \"white\", \"zerolinewidth\": 2}, \"yaxis\": {\"automargin\": true, \"gridcolor\": \"white\", \"linecolor\": \"white\", \"ticks\": \"\", \"title\": {\"standoff\": 15}, \"zerolinecolor\": \"white\", \"zerolinewidth\": 2}}}, \"title\": {\"text\": \"Hospitalization vs. Open Cases\"}, \"xaxis\": {\"anchor\": \"y\", \"domain\": [0.0, 1.0], \"title\": {\"text\": \"Number of open cases\"}}, \"yaxis\": {\"anchor\": \"x\", \"domain\": [0.0, 1.0], \"title\": {\"text\": \"Number of hospitalizations\"}}},\n",
       "                        {\"responsive\": true}\n",
       "                    ).then(function(){\n",
       "                            \n",
       "var gd = document.getElementById('ecdc3475-e104-49e8-92fc-78aaf315241e');\n",
       "var x = new MutationObserver(function (mutations, observer) {{\n",
       "        var display = window.getComputedStyle(gd).display;\n",
       "        if (!display || display === 'none') {{\n",
       "            console.log([gd, 'removed!']);\n",
       "            Plotly.purge(gd);\n",
       "            observer.disconnect();\n",
       "        }}\n",
       "}});\n",
       "\n",
       "// Listen for the removal of the full notebook cells\n",
       "var notebookContainer = gd.closest('#notebook-container');\n",
       "if (notebookContainer) {{\n",
       "    x.observe(notebookContainer, {childList: true});\n",
       "}}\n",
       "\n",
       "// Listen for the clearing of the current output cell\n",
       "var outputEl = gd.closest('.output');\n",
       "if (outputEl) {{\n",
       "    x.observe(outputEl, {childList: true});\n",
       "}}\n",
       "\n",
       "                        })\n",
       "                };\n",
       "                });\n",
       "            </script>\n",
       "        </div>"
      ]
     },
     "metadata": {},
     "output_type": "display_data"
    }
   ],
   "source": [
    "# Actually including NY in the analysis doesn't look too bad!\n",
    "# Check the state doing poorly compared to others in terms of hospitalization\n",
    "USCovidCorrectedFr['pcPositive'] = USCovidCorrectedFr.apply(lambda row: row['positive']/(row['positive'] + row['negative']) if row['positive'] + row['negative'] > 0. else 0., axis=1)\n",
    "USCovidCorrectedFr['pcHospitalized'] = USCovidCorrectedFr.apply(lambda row: row['hospitalized']/row['open'] if row['open'] > 0. else 0., axis=1)\n",
    "\n",
    "USCovidCorrectedForPlottingFr = USCovidCorrectedFr[USCovidCorrectedFr['pcHospitalized'] < 1.]\n",
    "fig = px.scatter(USCovidCorrectedForPlottingFr,\n",
    "                 x='open',\n",
    "                 y='hospitalized',\n",
    "                 color='pcPositive',\n",
    "                 size = 'pcHospitalized',\n",
    "                 hover_data=['state'],\n",
    "#                  text='state',\n",
    "                 trendline=\"ols\") \n",
    "\n",
    "fig.update_traces(line=dict(width=4,\n",
    "                            color='burlywood'), selector=dict(type=\"scatter\", mode=\"lines\"))\n",
    "fig.update_traces(marker=dict(line=dict(width=1,\n",
    "                                        color='DarkSlateGrey'),\n",
    "                              opacity=0.7),\n",
    "                  selector=dict(mode='markers'))\n",
    "fig.update_layout(title='Hospitalization vs. Open Cases',\n",
    "                  xaxis_title=\"Number of open cases\",\n",
    "                  yaxis_title=\"Number of hospitalizations\",)\n",
    "# fig.update_traces(textposition='top center')\n",
    "fig.show()\n",
    "\n",
    "# Save image\n",
    "fig.write_image(os.path.join('screenshots', 'hospitalizationVsOpenCases_USStates.PNG'))\n",
    "\n",
    "fig.write_html(os.path.join('screenshots', 'hospitalizationVsOpenCases_USStates.html'))"
   ]
  },
  {
   "cell_type": "code",
   "execution_count": 8,
   "metadata": {},
   "outputs": [
    {
     "data": {
      "text/plain": [
       "'NY'"
      ]
     },
     "execution_count": 8,
     "metadata": {},
     "output_type": "execute_result"
    }
   ],
   "source": [
    "# Look out for Row 34 - NY\n",
    "USCovidFr.loc[34,]['state']"
   ]
  },
  {
   "cell_type": "code",
   "execution_count": 9,
   "metadata": {},
   "outputs": [
    {
     "name": "stdout",
     "output_type": "stream",
     "text": [
      "                            OLS Regression Results                            \n",
      "==============================================================================\n",
      "Dep. Variable:           hospitalized   R-squared:                       0.762\n",
      "Model:                            OLS   Adj. R-squared:                  0.754\n",
      "Method:                 Least Squares   F-statistic:                     96.13\n",
      "Date:                Wed, 20 May 2020   Prob (F-statistic):           7.23e-11\n",
      "Time:                        12:59:50   Log-Likelihood:                -278.32\n",
      "No. Observations:                  32   AIC:                             560.6\n",
      "Df Residuals:                      30   BIC:                             563.6\n",
      "Df Model:                           1                                         \n",
      "Covariance Type:            nonrobust                                         \n",
      "==============================================================================\n",
      "                 coef    std err          t      P>|t|      [0.025      0.975]\n",
      "------------------------------------------------------------------------------\n",
      "Intercept    709.4774    327.876      2.164      0.039      39.866    1379.089\n",
      "open           0.1467      0.015      9.805      0.000       0.116       0.177\n",
      "==============================================================================\n",
      "Omnibus:                       28.737   Durbin-Watson:                   1.774\n",
      "Prob(Omnibus):                  0.000   Jarque-Bera (JB):              104.273\n",
      "Skew:                           1.636   Prob(JB):                     2.28e-23\n",
      "Kurtosis:                      11.215   Cond. No.                     2.72e+04\n",
      "==============================================================================\n",
      "\n",
      "Warnings:\n",
      "[1] Standard Errors assume that the covariance matrix of the errors is correctly specified.\n",
      "[2] The condition number is large, 2.72e+04. This might indicate that there are\n",
      "strong multicollinearity or other numerical problems.\n"
     ]
    },
    {
     "data": {
      "image/png": "[encoded data removed]",
      "text/plain": [
       "<Figure size 576x576 with 1 Axes>"
      ]
     },
     "metadata": {
      "needs_background": "light"
     },
     "output_type": "display_data"
    },
    {
     "data": {
      "image/png": "[encoded data removed]",
      "text/plain": [
       "<Figure size 720x720 with 4 Axes>"
      ]
     },
     "metadata": {
      "needs_background": "light"
     },
     "output_type": "display_data"
    }
   ],
   "source": [
    "# Plot hospitalization vs. open cases except NY\n",
    "USCovidWithoutNYFr = USCovidCorrectedFr[USCovidCorrectedFr['state'] != 'NY']\n",
    "plt.figure(figsize=(8,8))\n",
    "sns.regplot(x=\"open\",\n",
    "            y=\"hospitalized\",\n",
    "            data=USCovidWithoutNYFr,\n",
    "            scatter_kws={'alpha':0.7,\n",
    "                         'edgecolor':'k',\n",
    "                         's':200},\n",
    "            line_kws={'color':'red'});\n",
    "plt.xlabel(\"Number of open cases\", fontsize=20);\n",
    "plt.ylabel(\"Number of hospitalized cases\", fontsize=20);\n",
    "\n",
    "# Check using metrics and diagnostic plots\n",
    "model = smf.ols(formula='hospitalized ~ open', data=USCovidWithoutNYFr)\n",
    "results = model.fit()\n",
    "print(results.summary())\n",
    "dpR.all4DiagnosticPlots(results)"
   ]
  },
  {
   "cell_type": "code",
   "execution_count": 10,
   "metadata": {},
   "outputs": [
    {
     "name": "stdout",
     "output_type": "stream",
     "text": [
      "Intercept    709.477372\n",
      "open           0.146650\n",
      "dtype: float64\n"
     ]
    }
   ],
   "source": [
    "print(results.params)"
   ]
  },
  {
   "cell_type": "code",
   "execution_count": 11,
   "metadata": {},
   "outputs": [
    {
     "data": {
      "application/vnd.plotly.v1+json": {
       "config": {
        "plotlyServerURL": "https://plot.ly"
       },
       "data": [
        {
         "customdata": [
          [
           "AL"
          ],
          [
           "AR"
          ],
          [
           "AZ"
          ],
          [
           "CO"
          ],
          [
           "CT"
          ],
          [
           "FL"
          ],
          [
           "GA"
          ],
          [
           "HI"
          ],
          [
           "ID"
          ],
          [
           "IN"
          ],
          [
           "KS"
          ],
          [
           "KY"
          ],
          [
           "MA"
          ],
          [
           "MD"
          ],
          [
           "ME"
          ],
          [
           "MN"
          ],
          [
           "MS"
          ],
          [
           "MT"
          ],
          [
           "ND"
          ],
          [
           "NH"
          ],
          [
           "NM"
          ],
          [
           "OH"
          ],
          [
           "OK"
          ],
          [
           "OR"
          ],
          [
           "RI"
          ],
          [
           "SC"
          ],
          [
           "SD"
          ],
          [
           "TN"
          ],
          [
           "UT"
          ],
          [
           "VA"
          ],
          [
           "WI"
          ],
          [
           "WY"
          ]
         ],
         "hoverlabel": {
          "namelength": 0
         },
         "hovertemplate": "open=%{x}<br>hospitalized=%{y}<br>pcHospitalized=%{marker.size}<br>state=%{text}<br>pcPositive=%{marker.color}",
         "legendgroup": "",
         "marker": {
          "color": [
           0.07854486373963926,
           0.052539460624753204,
           0.09015231693806439,
           0.16905119048525505,
           0.20714747736093145,
           0.06557752617499354,
           0.10239424999206677,
           0.014214956799857851,
           0.06448816622448711,
           0.1516135847462103,
           0.1244961934617107,
           0.052400867611341294,
           0.1843523294334717,
           0.19911050618715792,
           0.07304997272689129,
           0.10522445700868169,
           0.09938858695652174,
           0.01626943005181347,
           0.034539502173875386,
           0.07381655010712698,
           0.04429588722569394,
           0.10429319673489384,
           0.03944749078312863,
           0.037364620938628156,
           0.11046005833887723,
           0.06705019139216514,
           0.13750042074792151,
           0.05309673150874111,
           0.042431416717426534,
           0.15851451508711026,
           0.07997045716910167,
           0.042913165266106446
          ],
          "coloraxis": "coloraxis",
          "size": [
           0.1223888140161725,
           0.4944547134935305,
           0.17169829875110632,
           0.22220322562261355,
           0.38147347877605076,
           0.19511324333370522,
           0.189626791159565,
           1.6734693877551021,
           0.29098360655737704,
           0.16327517577471076,
           0.096078940534926,
           0.40598728726676236,
           0.10691938965933624,
           0.1967101128507801,
           0.3879310344827586,
           0.46935756551141167,
           0.5304122225425194,
           3.611111111111111,
           0.19852941176470587,
           0.16644052464947987,
           0.21985111662531018,
           0.1879039365452409,
           0.8462264150943396,
           0.3275229357798165,
           0.12846612846612845,
           0.4504054897067998,
           0.2906666666666667,
           0.21086711711711711,
           0.1906440243511695,
           0.21495919203965266,
           0.41807014067763026,
           0.2896825396825397
          ],
          "sizemode": "area",
          "sizeref": 0.009027777777777779,
          "symbol": "circle"
         },
         "mode": "markers+text",
         "name": "",
         "showlegend": false,
         "text": [
          "AL",
          "AR",
          "AZ",
          "CO",
          "CT",
          "FL",
          "GA",
          "HI",
          "ID",
          "IN",
          "KS",
          "KY",
          "MA",
          "MD",
          "ME",
          "MN",
          "MS",
          "MT",
          "ND",
          "NH",
          "NM",
          "OH",
          "OK",
          "OR",
          "RI",
          "SC",
          "SD",
          "TN",
          "UT",
          "VA",
          "WI",
          "WY"
         ],
         "textposition": "top center",
         "type": "scatter",
         "x": [
          11872,
          1082,
          10169,
          17547,
          28694,
          44815,
          37057,
          49,
          732,
          26881,
          7702,
          4877,
          81987,
          36597,
          580,
          4732,
          3469,
          18,
          680,
          2211,
          4030,
          27232,
          1060,
          2180,
          11396,
          3206,
          1125,
          7104,
          3121,
          26833,
          5047,
          252
         ],
         "xaxis": "x",
         "y": [
          1453,
          535,
          1746,
          3899,
          10946,
          8744,
          7027,
          82,
          213,
          4389,
          740,
          1980,
          8766,
          7199,
          225,
          2221,
          1840,
          65,
          135,
          368,
          886,
          5117,
          897,
          714,
          1464,
          1444,
          327,
          1498,
          595,
          5768,
          2110,
          73
         ],
         "yaxis": "y"
        },
        {
         "hoverlabel": {
          "namelength": 0
         },
         "hovertemplate": "<b>OLS trendline</b><br>hospitalized = 0.14665 * open + 709.477<br>R<sup>2</sup>=0.762152<br><br>open=%{x}<br>hospitalized=%{y} <b>(trend)</b>",
         "legendgroup": "",
         "line": {
          "color": "red",
          "width": 4
         },
         "marker": {
          "symbol": "circle"
         },
         "mode": "lines",
         "name": "",
         "showlegend": false,
         "textposition": "top center",
         "type": "scatter",
         "x": [
          18,
          49,
          252,
          580,
          680,
          732,
          1060,
          1082,
          1125,
          2180,
          2211,
          3121,
          3206,
          3469,
          4030,
          4732,
          4877,
          5047,
          7104,
          7702,
          10169,
          11396,
          11872,
          17547,
          26833,
          26881,
          27232,
          28694,
          36597,
          37057,
          44815,
          81987
         ],
         "xaxis": "x",
         "y": [
          712.1170805215656,
          716.6632457138448,
          746.4332951987694,
          794.5346559428842,
          809.1997049502363,
          816.8255304340594,
          864.9268911781741,
          868.1532019597915,
          874.4591730329529,
          1029.175440060517,
          1033.721605252796,
          1167.1735512197,
          1179.6388428759492,
          1218.207921765285,
          1300.4788466965301,
          1403.4274907281415,
          1424.6918117888017,
          1449.6223951013003,
          1751.2824531825322,
          1838.9794462464974,
          2200.7662052578726,
          2380.7063565780823,
          2450.511989853078,
          3282.753521020307,
          4644.549971843018,
          4651.589195366548,
          4703.063517382353,
          4917.4665338698405,
          6076.445356920873,
          6143.904582354692,
          7281.619084345065,
          12732.91110135797
         ],
         "yaxis": "y"
        }
       ],
       "layout": {
        "coloraxis": {
         "colorbar": {
          "title": {
           "text": "pcPositive"
          }
         },
         "colorscale": [
          [
           0,
           "#0d0887"
          ],
          [
           0.1111111111111111,
           "#46039f"
          ],
          [
           0.2222222222222222,
           "#7201a8"
          ],
          [
           0.3333333333333333,
           "#9c179e"
          ],
          [
           0.4444444444444444,
           "#bd3786"
          ],
          [
           0.5555555555555556,
           "#d8576b"
          ],
          [
           0.6666666666666666,
           "#ed7953"
          ],
          [
           0.7777777777777778,
           "#fb9f3a"
          ],
          [
           0.8888888888888888,
           "#fdca26"
          ],
          [
           1,
           "#f0f921"
          ]
         ]
        },
        "legend": {
         "itemsizing": "constant",
         "tracegroupgap": 0
        },
        "margin": {
         "t": 60
        },
        "template": {
         "data": {
          "bar": [
           {
            "error_x": {
             "color": "#2a3f5f"
            },
            "error_y": {
             "color": "#2a3f5f"
            },
            "marker": {
             "line": {
              "color": "#E5ECF6",
              "width": 0.5
             }
            },
            "type": "bar"
           }
          ],
          "barpolar": [
           {
            "marker": {
             "line": {
              "color": "#E5ECF6",
              "width": 0.5
             }
            },
            "type": "barpolar"
           }
          ],
          "carpet": [
           {
            "aaxis": {
             "endlinecolor": "#2a3f5f",
             "gridcolor": "white",
             "linecolor": "white",
             "minorgridcolor": "white",
             "startlinecolor": "#2a3f5f"
            },
            "baxis": {
             "endlinecolor": "#2a3f5f",
             "gridcolor": "white",
             "linecolor": "white",
             "minorgridcolor": "white",
             "startlinecolor": "#2a3f5f"
            },
            "type": "carpet"
           }
          ],
          "choropleth": [
           {
            "colorbar": {
             "outlinewidth": 0,
             "ticks": ""
            },
            "type": "choropleth"
           }
          ],
          "contour": [
           {
            "colorbar": {
             "outlinewidth": 0,
             "ticks": ""
            },
            "colorscale": [
             [
              0,
              "#0d0887"
             ],
             [
              0.1111111111111111,
              "#46039f"
             ],
             [
              0.2222222222222222,
              "#7201a8"
             ],
             [
              0.3333333333333333,
              "#9c179e"
             ],
             [
              0.4444444444444444,
              "#bd3786"
             ],
             [
              0.5555555555555556,
              "#d8576b"
             ],
             [
              0.6666666666666666,
              "#ed7953"
             ],
             [
              0.7777777777777778,
              "#fb9f3a"
             ],
             [
              0.8888888888888888,
              "#fdca26"
             ],
             [
              1,
              "#f0f921"
             ]
            ],
            "type": "contour"
           }
          ],
          "contourcarpet": [
           {
            "colorbar": {
             "outlinewidth": 0,
             "ticks": ""
            },
            "type": "contourcarpet"
           }
          ],
          "heatmap": [
           {
            "colorbar": {
             "outlinewidth": 0,
             "ticks": ""
            },
            "colorscale": [
             [
              0,
              "#0d0887"
             ],
             [
              0.1111111111111111,
              "#46039f"
             ],
             [
              0.2222222222222222,
              "#7201a8"
             ],
             [
              0.3333333333333333,
              "#9c179e"
             ],
             [
              0.4444444444444444,
              "#bd3786"
             ],
             [
              0.5555555555555556,
              "#d8576b"
             ],
             [
              0.6666666666666666,
              "#ed7953"
             ],
             [
              0.7777777777777778,
              "#fb9f3a"
             ],
             [
              0.8888888888888888,
              "#fdca26"
             ],
             [
              1,
              "#f0f921"
             ]
            ],
            "type": "heatmap"
           }
          ],
          "heatmapgl": [
           {
            "colorbar": {
             "outlinewidth": 0,
             "ticks": ""
            },
            "colorscale": [
             [
              0,
              "#0d0887"
             ],
             [
              0.1111111111111111,
              "#46039f"
             ],
             [
              0.2222222222222222,
              "#7201a8"
             ],
             [
              0.3333333333333333,
              "#9c179e"
             ],
             [
              0.4444444444444444,
              "#bd3786"
             ],
             [
              0.5555555555555556,
              "#d8576b"
             ],
             [
              0.6666666666666666,
              "#ed7953"
             ],
             [
              0.7777777777777778,
              "#fb9f3a"
             ],
             [
              0.8888888888888888,
              "#fdca26"
             ],
             [
              1,
              "#f0f921"
             ]
            ],
            "type": "heatmapgl"
           }
          ],
          "histogram": [
           {
            "marker": {
             "colorbar": {
              "outlinewidth": 0,
              "ticks": ""
             }
            },
            "type": "histogram"
           }
          ],
          "histogram2d": [
           {
            "colorbar": {
             "outlinewidth": 0,
             "ticks": ""
            },
            "colorscale": [
             [
              0,
              "#0d0887"
             ],
             [
              0.1111111111111111,
              "#46039f"
             ],
             [
              0.2222222222222222,
              "#7201a8"
             ],
             [
              0.3333333333333333,
              "#9c179e"
             ],
             [
              0.4444444444444444,
              "#bd3786"
             ],
             [
              0.5555555555555556,
              "#d8576b"
             ],
             [
              0.6666666666666666,
              "#ed7953"
             ],
             [
              0.7777777777777778,
              "#fb9f3a"
             ],
             [
              0.8888888888888888,
              "#fdca26"
             ],
             [
              1,
              "#f0f921"
             ]
            ],
            "type": "histogram2d"
           }
          ],
          "histogram2dcontour": [
           {
            "colorbar": {
             "outlinewidth": 0,
             "ticks": ""
            },
            "colorscale": [
             [
              0,
              "#0d0887"
             ],
             [
              0.1111111111111111,
              "#46039f"
             ],
             [
              0.2222222222222222,
              "#7201a8"
             ],
             [
              0.3333333333333333,
              "#9c179e"
             ],
             [
              0.4444444444444444,
              "#bd3786"
             ],
             [
              0.5555555555555556,
              "#d8576b"
             ],
             [
              0.6666666666666666,
              "#ed7953"
             ],
             [
              0.7777777777777778,
              "#fb9f3a"
             ],
             [
              0.8888888888888888,
              "#fdca26"
             ],
             [
              1,
              "#f0f921"
             ]
            ],
            "type": "histogram2dcontour"
           }
          ],
          "mesh3d": [
           {
            "colorbar": {
             "outlinewidth": 0,
             "ticks": ""
            },
            "type": "mesh3d"
           }
          ],
          "parcoords": [
           {
            "line": {
             "colorbar": {
              "outlinewidth": 0,
              "ticks": ""
             }
            },
            "type": "parcoords"
           }
          ],
          "pie": [
           {
            "automargin": true,
            "type": "pie"
           }
          ],
          "scatter": [
           {
            "marker": {
             "colorbar": {
              "outlinewidth": 0,
              "ticks": ""
             }
            },
            "type": "scatter"
           }
          ],
          "scatter3d": [
           {
            "line": {
             "colorbar": {
              "outlinewidth": 0,
              "ticks": ""
             }
            },
            "marker": {
             "colorbar": {
              "outlinewidth": 0,
              "ticks": ""
             }
            },
            "type": "scatter3d"
           }
          ],
          "scattercarpet": [
           {
            "marker": {
             "colorbar": {
              "outlinewidth": 0,
              "ticks": ""
             }
            },
            "type": "scattercarpet"
           }
          ],
          "scattergeo": [
           {
            "marker": {
             "colorbar": {
              "outlinewidth": 0,
              "ticks": ""
             }
            },
            "type": "scattergeo"
           }
          ],
          "scattergl": [
           {
            "marker": {
             "colorbar": {
              "outlinewidth": 0,
              "ticks": ""
             }
            },
            "type": "scattergl"
           }
          ],
          "scattermapbox": [
           {
            "marker": {
             "colorbar": {
              "outlinewidth": 0,
              "ticks": ""
             }
            },
            "type": "scattermapbox"
           }
          ],
          "scatterpolar": [
           {
            "marker": {
             "colorbar": {
              "outlinewidth": 0,
              "ticks": ""
             }
            },
            "type": "scatterpolar"
           }
          ],
          "scatterpolargl": [
           {
            "marker": {
             "colorbar": {
              "outlinewidth": 0,
              "ticks": ""
             }
            },
            "type": "scatterpolargl"
           }
          ],
          "scatterternary": [
           {
            "marker": {
             "colorbar": {
              "outlinewidth": 0,
              "ticks": ""
             }
            },
            "type": "scatterternary"
           }
          ],
          "surface": [
           {
            "colorbar": {
             "outlinewidth": 0,
             "ticks": ""
            },
            "colorscale": [
             [
              0,
              "#0d0887"
             ],
             [
              0.1111111111111111,
              "#46039f"
             ],
             [
              0.2222222222222222,
              "#7201a8"
             ],
             [
              0.3333333333333333,
              "#9c179e"
             ],
             [
              0.4444444444444444,
              "#bd3786"
             ],
             [
              0.5555555555555556,
              "#d8576b"
             ],
             [
              0.6666666666666666,
              "#ed7953"
             ],
             [
              0.7777777777777778,
              "#fb9f3a"
             ],
             [
              0.8888888888888888,
              "#fdca26"
             ],
             [
              1,
              "#f0f921"
             ]
            ],
            "type": "surface"
           }
          ],
          "table": [
           {
            "cells": {
             "fill": {
              "color": "#EBF0F8"
             },
             "line": {
              "color": "white"
             }
            },
            "header": {
             "fill": {
              "color": "#C8D4E3"
             },
             "line": {
              "color": "white"
             }
            },
            "type": "table"
           }
          ]
         },
         "layout": {
          "annotationdefaults": {
           "arrowcolor": "#2a3f5f",
           "arrowhead": 0,
           "arrowwidth": 1
          },
          "coloraxis": {
           "colorbar": {
            "outlinewidth": 0,
            "ticks": ""
           }
          },
          "colorscale": {
           "diverging": [
            [
             0,
             "#8e0152"
            ],
            [
             0.1,
             "#c51b7d"
            ],
            [
             0.2,
             "#de77ae"
            ],
            [
             0.3,
             "#f1b6da"
            ],
            [
             0.4,
             "#fde0ef"
            ],
            [
             0.5,
             "#f7f7f7"
            ],
            [
             0.6,
             "#e6f5d0"
            ],
            [
             0.7,
             "#b8e186"
            ],
            [
             0.8,
             "#7fbc41"
            ],
            [
             0.9,
             "#4d9221"
            ],
            [
             1,
             "#276419"
            ]
           ],
           "sequential": [
            [
             0,
             "#0d0887"
            ],
            [
             0.1111111111111111,
             "#46039f"
            ],
            [
             0.2222222222222222,
             "#7201a8"
            ],
            [
             0.3333333333333333,
             "#9c179e"
            ],
            [
             0.4444444444444444,
             "#bd3786"
            ],
            [
             0.5555555555555556,
             "#d8576b"
            ],
            [
             0.6666666666666666,
             "#ed7953"
            ],
            [
             0.7777777777777778,
             "#fb9f3a"
            ],
            [
             0.8888888888888888,
             "#fdca26"
            ],
            [
             1,
             "#f0f921"
            ]
           ],
           "sequentialminus": [
            [
             0,
             "#0d0887"
            ],
            [
             0.1111111111111111,
             "#46039f"
            ],
            [
             0.2222222222222222,
             "#7201a8"
            ],
            [
             0.3333333333333333,
             "#9c179e"
            ],
            [
             0.4444444444444444,
             "#bd3786"
            ],
            [
             0.5555555555555556,
             "#d8576b"
            ],
            [
             0.6666666666666666,
             "#ed7953"
            ],
            [
             0.7777777777777778,
             "#fb9f3a"
            ],
            [
             0.8888888888888888,
             "#fdca26"
            ],
            [
             1,
             "#f0f921"
            ]
           ]
          },
          "colorway": [
           "#636efa",
           "#EF553B",
           "#00cc96",
           "#ab63fa",
           "#FFA15A",
           "#19d3f3",
           "#FF6692",
           "#B6E880",
           "#FF97FF",
           "#FECB52"
          ],
          "font": {
           "color": "#2a3f5f"
          },
          "geo": {
           "bgcolor": "white",
           "lakecolor": "white",
           "landcolor": "#E5ECF6",
           "showlakes": true,
           "showland": true,
           "subunitcolor": "white"
          },
          "hoverlabel": {
           "align": "left"
          },
          "hovermode": "closest",
          "mapbox": {
           "style": "light"
          },
          "paper_bgcolor": "white",
          "plot_bgcolor": "#E5ECF6",
          "polar": {
           "angularaxis": {
            "gridcolor": "white",
            "linecolor": "white",
            "ticks": ""
           },
           "bgcolor": "#E5ECF6",
           "radialaxis": {
            "gridcolor": "white",
            "linecolor": "white",
            "ticks": ""
           }
          },
          "scene": {
           "xaxis": {
            "backgroundcolor": "#E5ECF6",
            "gridcolor": "white",
            "gridwidth": 2,
            "linecolor": "white",
            "showbackground": true,
            "ticks": "",
            "zerolinecolor": "white"
           },
           "yaxis": {
            "backgroundcolor": "#E5ECF6",
            "gridcolor": "white",
            "gridwidth": 2,
            "linecolor": "white",
            "showbackground": true,
            "ticks": "",
            "zerolinecolor": "white"
           },
           "zaxis": {
            "backgroundcolor": "#E5ECF6",
            "gridcolor": "white",
            "gridwidth": 2,
            "linecolor": "white",
            "showbackground": true,
            "ticks": "",
            "zerolinecolor": "white"
           }
          },
          "shapedefaults": {
           "line": {
            "color": "#2a3f5f"
           }
          },
          "ternary": {
           "aaxis": {
            "gridcolor": "white",
            "linecolor": "white",
            "ticks": ""
           },
           "baxis": {
            "gridcolor": "white",
            "linecolor": "white",
            "ticks": ""
           },
           "bgcolor": "#E5ECF6",
           "caxis": {
            "gridcolor": "white",
            "linecolor": "white",
            "ticks": ""
           }
          },
          "title": {
           "x": 0.05
          },
          "xaxis": {
           "automargin": true,
           "gridcolor": "white",
           "linecolor": "white",
           "ticks": "",
           "title": {
            "standoff": 15
           },
           "zerolinecolor": "white",
           "zerolinewidth": 2
          },
          "yaxis": {
           "automargin": true,
           "gridcolor": "white",
           "linecolor": "white",
           "ticks": "",
           "title": {
            "standoff": 15
           },
           "zerolinecolor": "white",
           "zerolinewidth": 2
          }
         }
        },
        "xaxis": {
         "anchor": "y",
         "domain": [
          0,
          1
         ],
         "title": {
          "text": "open"
         }
        },
        "yaxis": {
         "anchor": "x",
         "domain": [
          0,
          1
         ],
         "title": {
          "text": "hospitalized"
         }
        }
       }
      },
      "text/html": [
       "<div>\n",
       "        \n",
       "        \n",
       "            <div id=\"7104035d-d6aa-4aad-811f-b2ca7c141b3f\" class=\"plotly-graph-div\" style=\"height:525px; width:100%;\"></div>\n",
       "            <script type=\"text/javascript\">\n",
       "                require([\"plotly\"], function(Plotly) {\n",
       "                    window.PLOTLYENV=window.PLOTLYENV || {};\n",
       "                    \n",
       "                if (document.getElementById(\"7104035d-d6aa-4aad-811f-b2ca7c141b3f\")) {\n",
       "                    Plotly.newPlot(\n",
       "                        '7104035d-d6aa-4aad-811f-b2ca7c141b3f',\n",
       "                        [{\"customdata\": [[\"AL\"], [\"AR\"], [\"AZ\"], [\"CO\"], [\"CT\"], [\"FL\"], [\"GA\"], [\"HI\"], [\"ID\"], [\"IN\"], [\"KS\"], [\"KY\"], [\"MA\"], [\"MD\"], [\"ME\"], [\"MN\"], [\"MS\"], [\"MT\"], [\"ND\"], [\"NH\"], [\"NM\"], [\"OH\"], [\"OK\"], [\"OR\"], [\"RI\"], [\"SC\"], [\"SD\"], [\"TN\"], [\"UT\"], [\"VA\"], [\"WI\"], [\"WY\"]], \"hoverlabel\": {\"namelength\": 0}, \"hovertemplate\": \"open=%{x}<br>hospitalized=%{y}<br>pcHospitalized=%{marker.size}<br>state=%{text}<br>pcPositive=%{marker.color}\", \"legendgroup\": \"\", \"marker\": {\"color\": [0.07854486373963926, 0.052539460624753204, 0.09015231693806439, 0.16905119048525505, 0.20714747736093145, 0.06557752617499354, 0.10239424999206677, 0.014214956799857851, 0.06448816622448711, 0.1516135847462103, 0.1244961934617107, 0.052400867611341294, 0.1843523294334717, 0.19911050618715792, 0.07304997272689129, 0.10522445700868169, 0.09938858695652174, 0.01626943005181347, 0.034539502173875386, 0.07381655010712698, 0.04429588722569394, 0.10429319673489384, 0.03944749078312863, 0.037364620938628156, 0.11046005833887723, 0.06705019139216514, 0.13750042074792151, 0.05309673150874111, 0.042431416717426534, 0.15851451508711026, 0.07997045716910167, 0.042913165266106446], \"coloraxis\": \"coloraxis\", \"size\": [0.1223888140161725, 0.4944547134935305, 0.17169829875110632, 0.22220322562261355, 0.38147347877605076, 0.19511324333370522, 0.189626791159565, 1.6734693877551021, 0.29098360655737704, 0.16327517577471076, 0.096078940534926, 0.40598728726676236, 0.10691938965933624, 0.1967101128507801, 0.3879310344827586, 0.46935756551141167, 0.5304122225425194, 3.611111111111111, 0.19852941176470587, 0.16644052464947987, 0.21985111662531018, 0.1879039365452409, 0.8462264150943396, 0.3275229357798165, 0.12846612846612845, 0.4504054897067998, 0.2906666666666667, 0.21086711711711711, 0.1906440243511695, 0.21495919203965266, 0.41807014067763026, 0.2896825396825397], \"sizemode\": \"area\", \"sizeref\": 0.009027777777777779, \"symbol\": \"circle\"}, \"mode\": \"markers+text\", \"name\": \"\", \"showlegend\": false, \"text\": [\"AL\", \"AR\", \"AZ\", \"CO\", \"CT\", \"FL\", \"GA\", \"HI\", \"ID\", \"IN\", \"KS\", \"KY\", \"MA\", \"MD\", \"ME\", \"MN\", \"MS\", \"MT\", \"ND\", \"NH\", \"NM\", \"OH\", \"OK\", \"OR\", \"RI\", \"SC\", \"SD\", \"TN\", \"UT\", \"VA\", \"WI\", \"WY\"], \"textposition\": \"top center\", \"type\": \"scatter\", \"x\": [11872.0, 1082.0, 10169.0, 17547.0, 28694.0, 44815.0, 37057.0, 49.0, 732.0, 26881.0, 7702.0, 4877.0, 81987.0, 36597.0, 580.0, 4732.0, 3469.0, 18.0, 680.0, 2211.0, 4030.0, 27232.0, 1060.0, 2180.0, 11396.0, 3206.0, 1125.0, 7104.0, 3121.0, 26833.0, 5047.0, 252.0], \"xaxis\": \"x\", \"y\": [1453.0, 535.0, 1746.0, 3899.0, 10946.0, 8744.0, 7027.0, 82.0, 213.0, 4389.0, 740.0, 1980.0, 8766.0, 7199.0, 225.0, 2221.0, 1840.0, 65.0, 135.0, 368.0, 886.0, 5117.0, 897.0, 714.0, 1464.0, 1444.0, 327.0, 1498.0, 595.0, 5768.0, 2110.0, 73.0], \"yaxis\": \"y\"}, {\"hoverlabel\": {\"namelength\": 0}, \"hovertemplate\": \"<b>OLS trendline</b><br>hospitalized = 0.14665 * open + 709.477<br>R<sup>2</sup>=0.762152<br><br>open=%{x}<br>hospitalized=%{y} <b>(trend)</b>\", \"legendgroup\": \"\", \"line\": {\"color\": \"red\", \"width\": 4}, \"marker\": {\"symbol\": \"circle\"}, \"mode\": \"lines\", \"name\": \"\", \"showlegend\": false, \"textposition\": \"top center\", \"type\": \"scatter\", \"x\": [18.0, 49.0, 252.0, 580.0, 680.0, 732.0, 1060.0, 1082.0, 1125.0, 2180.0, 2211.0, 3121.0, 3206.0, 3469.0, 4030.0, 4732.0, 4877.0, 5047.0, 7104.0, 7702.0, 10169.0, 11396.0, 11872.0, 17547.0, 26833.0, 26881.0, 27232.0, 28694.0, 36597.0, 37057.0, 44815.0, 81987.0], \"xaxis\": \"x\", \"y\": [712.1170805215656, 716.6632457138448, 746.4332951987694, 794.5346559428842, 809.1997049502363, 816.8255304340594, 864.9268911781741, 868.1532019597915, 874.4591730329529, 1029.175440060517, 1033.721605252796, 1167.1735512197, 1179.6388428759492, 1218.207921765285, 1300.4788466965301, 1403.4274907281415, 1424.6918117888017, 1449.6223951013003, 1751.2824531825322, 1838.9794462464974, 2200.7662052578726, 2380.7063565780823, 2450.511989853078, 3282.753521020307, 4644.549971843018, 4651.589195366548, 4703.063517382353, 4917.4665338698405, 6076.445356920873, 6143.904582354692, 7281.619084345065, 12732.91110135797], \"yaxis\": \"y\"}],\n",
       "                        {\"coloraxis\": {\"colorbar\": {\"title\": {\"text\": \"pcPositive\"}}, \"colorscale\": [[0.0, \"#0d0887\"], [0.1111111111111111, \"#46039f\"], [0.2222222222222222, \"#7201a8\"], [0.3333333333333333, \"#9c179e\"], [0.4444444444444444, \"#bd3786\"], [0.5555555555555556, \"#d8576b\"], [0.6666666666666666, \"#ed7953\"], [0.7777777777777778, \"#fb9f3a\"], [0.8888888888888888, \"#fdca26\"], [1.0, \"#f0f921\"]]}, \"legend\": {\"itemsizing\": \"constant\", \"tracegroupgap\": 0}, \"margin\": {\"t\": 60}, \"template\": {\"data\": {\"bar\": [{\"error_x\": {\"color\": \"#2a3f5f\"}, \"error_y\": {\"color\": \"#2a3f5f\"}, \"marker\": {\"line\": {\"color\": \"#E5ECF6\", \"width\": 0.5}}, \"type\": \"bar\"}], \"barpolar\": [{\"marker\": {\"line\": {\"color\": \"#E5ECF6\", \"width\": 0.5}}, \"type\": \"barpolar\"}], \"carpet\": [{\"aaxis\": {\"endlinecolor\": \"#2a3f5f\", \"gridcolor\": \"white\", \"linecolor\": \"white\", \"minorgridcolor\": \"white\", \"startlinecolor\": \"#2a3f5f\"}, \"baxis\": {\"endlinecolor\": \"#2a3f5f\", \"gridcolor\": \"white\", \"linecolor\": \"white\", \"minorgridcolor\": \"white\", \"startlinecolor\": \"#2a3f5f\"}, \"type\": \"carpet\"}], \"choropleth\": [{\"colorbar\": {\"outlinewidth\": 0, \"ticks\": \"\"}, \"type\": \"choropleth\"}], \"contour\": [{\"colorbar\": {\"outlinewidth\": 0, \"ticks\": \"\"}, \"colorscale\": [[0.0, \"#0d0887\"], [0.1111111111111111, \"#46039f\"], [0.2222222222222222, \"#7201a8\"], [0.3333333333333333, \"#9c179e\"], [0.4444444444444444, \"#bd3786\"], [0.5555555555555556, \"#d8576b\"], [0.6666666666666666, \"#ed7953\"], [0.7777777777777778, \"#fb9f3a\"], [0.8888888888888888, \"#fdca26\"], [1.0, \"#f0f921\"]], \"type\": \"contour\"}], \"contourcarpet\": [{\"colorbar\": {\"outlinewidth\": 0, \"ticks\": \"\"}, \"type\": \"contourcarpet\"}], \"heatmap\": [{\"colorbar\": {\"outlinewidth\": 0, \"ticks\": \"\"}, \"colorscale\": [[0.0, \"#0d0887\"], [0.1111111111111111, \"#46039f\"], [0.2222222222222222, \"#7201a8\"], [0.3333333333333333, \"#9c179e\"], [0.4444444444444444, \"#bd3786\"], [0.5555555555555556, \"#d8576b\"], [0.6666666666666666, \"#ed7953\"], [0.7777777777777778, \"#fb9f3a\"], [0.8888888888888888, \"#fdca26\"], [1.0, \"#f0f921\"]], \"type\": \"heatmap\"}], \"heatmapgl\": [{\"colorbar\": {\"outlinewidth\": 0, \"ticks\": \"\"}, \"colorscale\": [[0.0, \"#0d0887\"], [0.1111111111111111, \"#46039f\"], [0.2222222222222222, \"#7201a8\"], [0.3333333333333333, \"#9c179e\"], [0.4444444444444444, \"#bd3786\"], [0.5555555555555556, \"#d8576b\"], [0.6666666666666666, \"#ed7953\"], [0.7777777777777778, \"#fb9f3a\"], [0.8888888888888888, \"#fdca26\"], [1.0, \"#f0f921\"]], \"type\": \"heatmapgl\"}], \"histogram\": [{\"marker\": {\"colorbar\": {\"outlinewidth\": 0, \"ticks\": \"\"}}, \"type\": \"histogram\"}], \"histogram2d\": [{\"colorbar\": {\"outlinewidth\": 0, \"ticks\": \"\"}, \"colorscale\": [[0.0, \"#0d0887\"], [0.1111111111111111, \"#46039f\"], [0.2222222222222222, \"#7201a8\"], [0.3333333333333333, \"#9c179e\"], [0.4444444444444444, \"#bd3786\"], [0.5555555555555556, \"#d8576b\"], [0.6666666666666666, \"#ed7953\"], [0.7777777777777778, \"#fb9f3a\"], [0.8888888888888888, \"#fdca26\"], [1.0, \"#f0f921\"]], \"type\": \"histogram2d\"}], \"histogram2dcontour\": [{\"colorbar\": {\"outlinewidth\": 0, \"ticks\": \"\"}, \"colorscale\": [[0.0, \"#0d0887\"], [0.1111111111111111, \"#46039f\"], [0.2222222222222222, \"#7201a8\"], [0.3333333333333333, \"#9c179e\"], [0.4444444444444444, \"#bd3786\"], [0.5555555555555556, \"#d8576b\"], [0.6666666666666666, \"#ed7953\"], [0.7777777777777778, \"#fb9f3a\"], [0.8888888888888888, \"#fdca26\"], [1.0, \"#f0f921\"]], \"type\": \"histogram2dcontour\"}], \"mesh3d\": [{\"colorbar\": {\"outlinewidth\": 0, \"ticks\": \"\"}, \"type\": \"mesh3d\"}], \"parcoords\": [{\"line\": {\"colorbar\": {\"outlinewidth\": 0, \"ticks\": \"\"}}, \"type\": \"parcoords\"}], \"pie\": [{\"automargin\": true, \"type\": \"pie\"}], \"scatter\": [{\"marker\": {\"colorbar\": {\"outlinewidth\": 0, \"ticks\": \"\"}}, \"type\": \"scatter\"}], \"scatter3d\": [{\"line\": {\"colorbar\": {\"outlinewidth\": 0, \"ticks\": \"\"}}, \"marker\": {\"colorbar\": {\"outlinewidth\": 0, \"ticks\": \"\"}}, \"type\": \"scatter3d\"}], \"scattercarpet\": [{\"marker\": {\"colorbar\": {\"outlinewidth\": 0, \"ticks\": \"\"}}, \"type\": \"scattercarpet\"}], \"scattergeo\": [{\"marker\": {\"colorbar\": {\"outlinewidth\": 0, \"ticks\": \"\"}}, \"type\": \"scattergeo\"}], \"scattergl\": [{\"marker\": {\"colorbar\": {\"outlinewidth\": 0, \"ticks\": \"\"}}, \"type\": \"scattergl\"}], \"scattermapbox\": [{\"marker\": {\"colorbar\": {\"outlinewidth\": 0, \"ticks\": \"\"}}, \"type\": \"scattermapbox\"}], \"scatterpolar\": [{\"marker\": {\"colorbar\": {\"outlinewidth\": 0, \"ticks\": \"\"}}, \"type\": \"scatterpolar\"}], \"scatterpolargl\": [{\"marker\": {\"colorbar\": {\"outlinewidth\": 0, \"ticks\": \"\"}}, \"type\": \"scatterpolargl\"}], \"scatterternary\": [{\"marker\": {\"colorbar\": {\"outlinewidth\": 0, \"ticks\": \"\"}}, \"type\": \"scatterternary\"}], \"surface\": [{\"colorbar\": {\"outlinewidth\": 0, \"ticks\": \"\"}, \"colorscale\": [[0.0, \"#0d0887\"], [0.1111111111111111, \"#46039f\"], [0.2222222222222222, \"#7201a8\"], [0.3333333333333333, \"#9c179e\"], [0.4444444444444444, \"#bd3786\"], [0.5555555555555556, \"#d8576b\"], [0.6666666666666666, \"#ed7953\"], [0.7777777777777778, \"#fb9f3a\"], [0.8888888888888888, \"#fdca26\"], [1.0, \"#f0f921\"]], \"type\": \"surface\"}], \"table\": [{\"cells\": {\"fill\": {\"color\": \"#EBF0F8\"}, \"line\": {\"color\": \"white\"}}, \"header\": {\"fill\": {\"color\": \"#C8D4E3\"}, \"line\": {\"color\": \"white\"}}, \"type\": \"table\"}]}, \"layout\": {\"annotationdefaults\": {\"arrowcolor\": \"#2a3f5f\", \"arrowhead\": 0, \"arrowwidth\": 1}, \"coloraxis\": {\"colorbar\": {\"outlinewidth\": 0, \"ticks\": \"\"}}, \"colorscale\": {\"diverging\": [[0, \"#8e0152\"], [0.1, \"#c51b7d\"], [0.2, \"#de77ae\"], [0.3, \"#f1b6da\"], [0.4, \"#fde0ef\"], [0.5, \"#f7f7f7\"], [0.6, \"#e6f5d0\"], [0.7, \"#b8e186\"], [0.8, \"#7fbc41\"], [0.9, \"#4d9221\"], [1, \"#276419\"]], \"sequential\": [[0.0, \"#0d0887\"], [0.1111111111111111, \"#46039f\"], [0.2222222222222222, \"#7201a8\"], [0.3333333333333333, \"#9c179e\"], [0.4444444444444444, \"#bd3786\"], [0.5555555555555556, \"#d8576b\"], [0.6666666666666666, \"#ed7953\"], [0.7777777777777778, \"#fb9f3a\"], [0.8888888888888888, \"#fdca26\"], [1.0, \"#f0f921\"]], \"sequentialminus\": [[0.0, \"#0d0887\"], [0.1111111111111111, \"#46039f\"], [0.2222222222222222, \"#7201a8\"], [0.3333333333333333, \"#9c179e\"], [0.4444444444444444, \"#bd3786\"], [0.5555555555555556, \"#d8576b\"], [0.6666666666666666, \"#ed7953\"], [0.7777777777777778, \"#fb9f3a\"], [0.8888888888888888, \"#fdca26\"], [1.0, \"#f0f921\"]]}, \"colorway\": [\"#636efa\", \"#EF553B\", \"#00cc96\", \"#ab63fa\", \"#FFA15A\", \"#19d3f3\", \"#FF6692\", \"#B6E880\", \"#FF97FF\", \"#FECB52\"], \"font\": {\"color\": \"#2a3f5f\"}, \"geo\": {\"bgcolor\": \"white\", \"lakecolor\": \"white\", \"landcolor\": \"#E5ECF6\", \"showlakes\": true, \"showland\": true, \"subunitcolor\": \"white\"}, \"hoverlabel\": {\"align\": \"left\"}, \"hovermode\": \"closest\", \"mapbox\": {\"style\": \"light\"}, \"paper_bgcolor\": \"white\", \"plot_bgcolor\": \"#E5ECF6\", \"polar\": {\"angularaxis\": {\"gridcolor\": \"white\", \"linecolor\": \"white\", \"ticks\": \"\"}, \"bgcolor\": \"#E5ECF6\", \"radialaxis\": {\"gridcolor\": \"white\", \"linecolor\": \"white\", \"ticks\": \"\"}}, \"scene\": {\"xaxis\": {\"backgroundcolor\": \"#E5ECF6\", \"gridcolor\": \"white\", \"gridwidth\": 2, \"linecolor\": \"white\", \"showbackground\": true, \"ticks\": \"\", \"zerolinecolor\": \"white\"}, \"yaxis\": {\"backgroundcolor\": \"#E5ECF6\", \"gridcolor\": \"white\", \"gridwidth\": 2, \"linecolor\": \"white\", \"showbackground\": true, \"ticks\": \"\", \"zerolinecolor\": \"white\"}, \"zaxis\": {\"backgroundcolor\": \"#E5ECF6\", \"gridcolor\": \"white\", \"gridwidth\": 2, \"linecolor\": \"white\", \"showbackground\": true, \"ticks\": \"\", \"zerolinecolor\": \"white\"}}, \"shapedefaults\": {\"line\": {\"color\": \"#2a3f5f\"}}, \"ternary\": {\"aaxis\": {\"gridcolor\": \"white\", \"linecolor\": \"white\", \"ticks\": \"\"}, \"baxis\": {\"gridcolor\": \"white\", \"linecolor\": \"white\", \"ticks\": \"\"}, \"bgcolor\": \"#E5ECF6\", \"caxis\": {\"gridcolor\": \"white\", \"linecolor\": \"white\", \"ticks\": \"\"}}, \"title\": {\"x\": 0.05}, \"xaxis\": {\"automargin\": true, \"gridcolor\": \"white\", \"linecolor\": \"white\", \"ticks\": \"\", \"title\": {\"standoff\": 15}, \"zerolinecolor\": \"white\", \"zerolinewidth\": 2}, \"yaxis\": {\"automargin\": true, \"gridcolor\": \"white\", \"linecolor\": \"white\", \"ticks\": \"\", \"title\": {\"standoff\": 15}, \"zerolinecolor\": \"white\", \"zerolinewidth\": 2}}}, \"xaxis\": {\"anchor\": \"y\", \"domain\": [0.0, 1.0], \"title\": {\"text\": \"open\"}}, \"yaxis\": {\"anchor\": \"x\", \"domain\": [0.0, 1.0], \"title\": {\"text\": \"hospitalized\"}}},\n",
       "                        {\"responsive\": true}\n",
       "                    ).then(function(){\n",
       "                            \n",
       "var gd = document.getElementById('7104035d-d6aa-4aad-811f-b2ca7c141b3f');\n",
       "var x = new MutationObserver(function (mutations, observer) {{\n",
       "        var display = window.getComputedStyle(gd).display;\n",
       "        if (!display || display === 'none') {{\n",
       "            console.log([gd, 'removed!']);\n",
       "            Plotly.purge(gd);\n",
       "            observer.disconnect();\n",
       "        }}\n",
       "}});\n",
       "\n",
       "// Listen for the removal of the full notebook cells\n",
       "var notebookContainer = gd.closest('#notebook-container');\n",
       "if (notebookContainer) {{\n",
       "    x.observe(notebookContainer, {childList: true});\n",
       "}}\n",
       "\n",
       "// Listen for the clearing of the current output cell\n",
       "var outputEl = gd.closest('.output');\n",
       "if (outputEl) {{\n",
       "    x.observe(outputEl, {childList: true});\n",
       "}}\n",
       "\n",
       "                        })\n",
       "                };\n",
       "                });\n",
       "            </script>\n",
       "        </div>"
      ]
     },
     "metadata": {},
     "output_type": "display_data"
    }
   ],
   "source": [
    "fig = px.scatter(USCovidWithoutNYFr,\n",
    "                 x='open',\n",
    "                 y='hospitalized',\n",
    "                 color='pcPositive',\n",
    "                 size = 'pcHospitalized',\n",
    "                 hover_data=['state'],\n",
    "                 text='state',\n",
    "                 trendline=\"ols\") \n",
    "\n",
    "fig.update_traces(line=dict(width=4,\n",
    "                            color='red'), selector=dict(type=\"scatter\", mode=\"lines\"))\n",
    "fig.update_traces(marker=dict(line=dict(width=1,\n",
    "                                        color='DarkSlateGrey'),\n",
    "                              opacity=0.6),\n",
    "                  selector=dict(mode='markers'))\n",
    "fig.update_traces(textposition='top center')\n",
    "\n",
    "fig.show()"
   ]
  },
  {
   "cell_type": "code",
   "execution_count": 12,
   "metadata": {},
   "outputs": [
    {
     "data": {
      "text/plain": [
       "<matplotlib.axes._subplots.AxesSubplot at 0x20cf1310c88>"
      ]
     },
     "execution_count": 12,
     "metadata": {},
     "output_type": "execute_result"
    },
    {
     "data": {
      "image/png": "[encoded data removed]",
      "text/plain": [
       "<Figure size 432x288 with 1 Axes>"
      ]
     },
     "metadata": {
      "needs_background": "light"
     },
     "output_type": "display_data"
    }
   ],
   "source": [
    "# Get hospitalization rates\n",
    "USCovidFr['hospitalizationRate'] = USCovidFr['hospitalized']/USCovidFr['open']\n",
    "sns.boxplot(y='hospitalizationRate',\n",
    "            data=USCovidFr)"
   ]
  },
  {
   "cell_type": "code",
   "execution_count": 13,
   "metadata": {},
   "outputs": [
    {
     "name": "stdout",
     "output_type": "stream",
     "text": [
      "                              OLS Regression Results                             \n",
      "=================================================================================\n",
      "Dep. Variable:     onVentilatorCurrently   R-squared:                       0.981\n",
      "Model:                               OLS   Adj. R-squared:                  0.978\n",
      "Method:                    Least Squares   F-statistic:                     404.4\n",
      "Date:                   Wed, 20 May 2020   Prob (F-statistic):           3.90e-08\n",
      "Time:                           13:01:10   Log-Likelihood:                -54.869\n",
      "No. Observations:                     10   AIC:                             113.7\n",
      "Df Residuals:                          8   BIC:                             114.3\n",
      "Df Model:                              1                                         \n",
      "Covariance Type:               nonrobust                                         \n",
      "================================================================================\n",
      "                   coef    std err          t      P>|t|      [0.025      0.975]\n",
      "--------------------------------------------------------------------------------\n",
      "Intercept       65.6747     22.582      2.908      0.020      13.600     117.749\n",
      "hospitalized     0.0187      0.001     20.111      0.000       0.017       0.021\n",
      "==============================================================================\n",
      "Omnibus:                        1.725   Durbin-Watson:                   2.245\n",
      "Prob(Omnibus):                  0.422   Jarque-Bera (JB):                0.957\n",
      "Skew:                           0.415   Prob(JB):                        0.620\n",
      "Kurtosis:                       1.732   Cond. No.                     2.65e+04\n",
      "==============================================================================\n",
      "\n",
      "Warnings:\n",
      "[1] Standard Errors assume that the covariance matrix of the errors is correctly specified.\n",
      "[2] The condition number is large, 2.65e+04. This might indicate that there are\n",
      "strong multicollinearity or other numerical problems.\n"
     ]
    },
    {
     "data": {
      "image/png": "[encoded data removed]",
      "text/plain": [
       "<Figure size 576x576 with 1 Axes>"
      ]
     },
     "metadata": {
      "needs_background": "light"
     },
     "output_type": "display_data"
    },
    {
     "data": {
      "image/png": "[encoded data removed]",
      "text/plain": [
       "<Figure size 720x720 with 4 Axes>"
      ]
     },
     "metadata": {
      "needs_background": "light"
     },
     "output_type": "display_data"
    }
   ],
   "source": [
    "# Look at ventilator data\n",
    "# Plot ventilator vs. hospitalized cases\n",
    "# Remove NA from hospitalized and open column\n",
    "USCovidCorrectedFr = USCovidFr.dropna(subset=['hospitalized', 'onVentilatorCurrently'])\n",
    "plt.figure(figsize=(8,8))\n",
    "sns.regplot(x=\"hospitalized\",\n",
    "            y=\"onVentilatorCurrently\",\n",
    "            data=USCovidCorrectedFr,\n",
    "            scatter_kws={'alpha':0.7,\n",
    "                         'edgecolor':'k',\n",
    "                         's':200},\n",
    "            line_kws={'color':'red'});\n",
    "plt.xlabel(\"Number of open cases\", fontsize=20);\n",
    "plt.ylabel(\"Number of hospitalized cases\", fontsize=20);\n",
    "\n",
    "# Check using metrics and diagnostic plots\n",
    "model = smf.ols(formula='onVentilatorCurrently ~ hospitalized', data=USCovidCorrectedFr)\n",
    "results = model.fit()\n",
    "print(results.summary())\n",
    "\n",
    "dpR.all4DiagnosticPlots(results)"
   ]
  },
  {
   "cell_type": "code",
   "execution_count": 14,
   "metadata": {},
   "outputs": [
    {
     "data": {
      "text/plain": [
       "<matplotlib.axes._subplots.AxesSubplot at 0x20cfa7d4b48>"
      ]
     },
     "execution_count": 14,
     "metadata": {},
     "output_type": "execute_result"
    },
    {
     "data": {
      "image/png": "[encoded data removed]",
      "text/plain": [
       "<Figure size 432x288 with 1 Axes>"
      ]
     },
     "metadata": {
      "needs_background": "light"
     },
     "output_type": "display_data"
    }
   ],
   "source": [
    "# Get ventilator required rates\n",
    "USCovidFr['ventilatorRequirementRate'] = USCovidFr['onVentilatorCurrently']/USCovidFr['hospitalized']\n",
    "sns.boxplot(y='ventilatorRequirementRate',\n",
    "            data=USCovidFr)"
   ]
  },
  {
   "cell_type": "code",
   "execution_count": null,
   "metadata": {},
   "outputs": [],
   "source": []
  }
 ],
 "metadata": {
  "kernelspec": {
   "display_name": "Python 3",
   "language": "python",
   "name": "python3"
  },
  "language_info": {
   "codemirror_mode": {
    "name": "ipython",
    "version": 3
   },
   "file_extension": ".py",
   "mimetype": "text/x-python",
   "name": "python",
   "nbconvert_exporter": "python",
   "pygments_lexer": "ipython3",
   "version": "3.7.4"
  }
 },
 "nbformat": 4,
 "nbformat_minor": 2
}
