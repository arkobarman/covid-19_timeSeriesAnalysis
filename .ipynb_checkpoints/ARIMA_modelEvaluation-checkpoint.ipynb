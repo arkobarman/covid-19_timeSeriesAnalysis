{
 "cells": [
  {
   "cell_type": "code",
   "execution_count": 1,
   "metadata": {},
   "outputs": [],
   "source": [
    "import os\n",
    "import numpy as np\n",
    "import pandas as pd\n",
    "import warnings\n",
    "from sklearn.metrics import mean_absolute_error\n",
    "from sklearn.metrics import mean_squared_error\n",
    "\n",
    "from statsmodels.tsa.arima_model import ARIMA\n",
    "from statsmodels.tsa.statespace.sarimax import SARIMAX\n",
    "\n",
    "# This is not recommended but I am doing this to suppress warnings from SARIMAX\n",
    "warnings.simplefilter('ignore')\n",
    "\n",
    "dataDir = os.path.join('data', 'JHU', 'upto07082020_forPublication')\n",
    "\n",
    "countryName = 'US'\n",
    "nDaysMin = 15\n",
    "k = 1\n",
    "\n",
    "pdqTupleGlobal = (1, 2, 2)\n",
    "\n",
    "\n",
    "# confirmedFilename = 'time_series_covid19_confirmed_global.csv'\n",
    "# deathsFilename = 'time_series_covid19_deaths_global.csv'\n",
    "# recoveredFilename = 'time_series_covid19_recovered_global.csv'\n",
    "\n",
    "confirmedFilename = 'https://raw.githubusercontent.com/arkobarman/covid-19_timeSeriesAnalysis/master/data/JHU/upto07082020_forPublication/time_series_covid19_confirmed_global.csv'\n",
    "deathsFilename = 'https://raw.githubusercontent.com/arkobarman/covid-19_timeSeriesAnalysis/master/data/JHU/upto07082020_forPublication/time_series_covid19_deaths_global.csv'\n",
    "recoveredFilename = 'https://raw.githubusercontent.com/arkobarman/covid-19_timeSeriesAnalysis/master/data/JHU/upto07082020_forPublication/time_series_covid19_recovered_global.csv'"
   ]
  },
  {
   "cell_type": "code",
   "execution_count": 2,
   "metadata": {},
   "outputs": [],
   "source": [
    "# Function to get all three frames for a given country\n",
    "def getCountryCovidFrDict(countryName):\n",
    "    countryCovidFrDict = {}\n",
    "    for key in covidFrDict.keys():\n",
    "        dataFr = covidFrDict[key]\n",
    "        countryCovidFrDict[key] = dataFr[dataFr['Country/Region'] == countryName]\n",
    "    return countryCovidFrDict"
   ]
  },
  {
   "cell_type": "code",
   "execution_count": 3,
   "metadata": {},
   "outputs": [],
   "source": [
    "# split a univariate sequence into samples\n",
    "def split_sequence(sequence, n_steps, k):\n",
    "    X, y = list(), list()\n",
    "    for i in range(len(sequence)):\n",
    "        # find the end of this pattern\n",
    "        end_ix = i + n_steps\n",
    "        # check if we are beyond the sequence\n",
    "        if end_ix + k >= len(sequence):\n",
    "            break\n",
    "        # gather input and output parts of the pattern\n",
    "        seq_x, seq_y = sequence[i:end_ix], sequence[end_ix:end_ix+k]\n",
    "        X.append(seq_x)\n",
    "        y.append(seq_y)\n",
    "    return np.array(X), np.array(y)"
   ]
  },
  {
   "cell_type": "code",
   "execution_count": 4,
   "metadata": {},
   "outputs": [],
   "source": [
    "def meanAbsolutePercentageError(yTrueList, yPredList):\n",
    "    absErrorList = [np.abs(yTrue - yPred) for yTrue, yPred in zip(yTrueList, yPredList)]\n",
    "    absPcErrorList = [absError/yTrue for absError, yTrue in zip(absErrorList, yTrueList)]\n",
    "    MAPE = 100*np.mean(absPcErrorList)\n",
    "    return MAPE\n",
    "\n",
    "def meanAbsolutePercentageError_kDay(yTrueListList, yPredListList):\n",
    "    # Store true and predictions for day 1 in a list, day 2 in a list and so on\n",
    "    # Keep each list of these lists in a respective dict with key as day #\n",
    "    yTrueForDayK = {}\n",
    "    yPredForDayK = {}\n",
    "    for i in range(len(yTrueListList[0])):\n",
    "        yTrueForDayK[i] = []\n",
    "        yPredForDayK[i] = []\n",
    "    for yTrueList, yPredList in zip(yTrueListList, yPredListList):\n",
    "        for i in range(len(yTrueList)):\n",
    "            yTrueForDayK[i].append(yTrueList[i])\n",
    "            yPredForDayK[i].append(yPredList[i])\n",
    "            \n",
    "    # Get MAPE for each day in a list\n",
    "    MAPEList = []\n",
    "    for i in yTrueForDayK.keys():\n",
    "        MAPEList.append(meanAbsolutePercentageError(yTrueForDayK[i], yPredForDayK[i]))\n",
    "    return np.mean(MAPEList)\n",
    "\n",
    "def meanForecastError(yTrueList, yPredList):\n",
    "    forecastErrors = [yTrue - yPred for yTrue, yPred in zip(yTrueList, yPredList)]\n",
    "    MFE = np.mean(forecastErrors)\n",
    "    return MFE\n",
    "\n",
    "def meanAbsoluteError(yTrueList, yPredList):\n",
    "    absErrorList = [np.abs(yTrue - yPred) for yTrue, yPred in zip(yTrueList, yPredList)]\n",
    "    return np.mean(absErrorList)\n",
    "\n",
    "def meanSquaredError(yTrueList, yPredList):\n",
    "    sqErrorList = [np.square(yTrue - yPred) for yTrue, yPred in zip(yTrueList, yPredList)]\n",
    "    return np.mean(sqErrorList)\n",
    "\n",
    "def rootMeanSquaredError(yTrueList, yPredList):\n",
    "    return np.sqrt(meanSquaredError(yTrueList, yPredList))\n",
    "\n",
    "def medianSymmetricAccuracy(yTrueList, yPredList):\n",
    "    '''https://helda.helsinki.fi//bitstream/handle/10138/312261/2017SW001669.pdf?sequence=1'''\n",
    "    logAccRatioList = [np.abs(np.log(yPred/yTrue)) for yTrue, yPred in zip(yTrueList, yPredList)]\n",
    "    MdSA = 100*(np.exp(np.median(logAccRatioList))-1)\n",
    "    return MdSA\n",
    "\n",
    "def medianSymmetricAccuracy_kDay(yTrueListList, yPredListList):\n",
    "    # Store true and predictions for day 1 in a list, day 2 in a list and so on\n",
    "    # Keep each list of these lists in a respective dict with key as day #\n",
    "    yTrueForDayK = {}\n",
    "    yPredForDayK = {}\n",
    "    for i in range(len(yTrueListList[0])):\n",
    "        yTrueForDayK[i] = []\n",
    "        yPredForDayK[i] = []\n",
    "    for yTrueList, yPredList in zip(yTrueListList, yPredListList):\n",
    "        for i in range(len(yTrueList)):\n",
    "            yTrueForDayK[i].append(yTrueList[i])\n",
    "            yPredForDayK[i].append(yPredList[i])\n",
    "    # Get MdSA for each day in a list\n",
    "    MdSAList = []\n",
    "    for i in yTrueForDayK.keys():\n",
    "        MdSAList.append(medianSymmetricAccuracy(yTrueForDayK[i], yPredForDayK[i]))\n",
    "    return(np.mean(MdSAList))"
   ]
  },
  {
   "cell_type": "code",
   "execution_count": 5,
   "metadata": {},
   "outputs": [],
   "source": [
    "# Load all 3 csv files\n",
    "covidFrDict = {}\n",
    "# covidFrDict['confirmed'] = pd.read_csv(os.path.join(dataDir, confirmedFilename))\n",
    "# covidFrDict['deaths'] = pd.read_csv(os.path.join(dataDir, deathsFilename))\n",
    "\n",
    "covidFrDict['confirmed'] = pd.read_csv(confirmedFilename)\n",
    "covidFrDict['deaths'] = pd.read_csv(deathsFilename)\n",
    "\n",
    "# Recovered is back again!\n",
    "covidFrDict['recovered'] = pd.read_csv(recoveredFilename)\n",
    "\n",
    "countryCovidFrDict = getCountryCovidFrDict(countryName)"
   ]
  },
  {
   "cell_type": "code",
   "execution_count": 6,
   "metadata": {},
   "outputs": [],
   "source": [
    "# USCovidFrDict['confirmed']\n",
    "\n",
    "# Get list of dates\n",
    "colNamesList = list(countryCovidFrDict['confirmed'])\n",
    "dateList = [colName for colName in colNamesList if '/20' in colName]\n",
    "dataList = [countryCovidFrDict['confirmed'][date].iloc[0] for date in dateList]\n",
    "dataDict = dict(zip(dateList, dataList))"
   ]
  },
  {
   "cell_type": "code",
   "execution_count": 7,
   "metadata": {},
   "outputs": [
    {
     "data": {
      "text/plain": [
       "3054699"
      ]
     },
     "execution_count": 7,
     "metadata": {},
     "output_type": "execute_result"
    }
   ],
   "source": [
    "# Get time series for cases > 100 only\n",
    "daysSince = 100\n",
    "nCasesGreaterDaysSinceList = []\n",
    "datesGreaterDaysSinceList = []\n",
    "\n",
    "for key in dataDict.keys():\n",
    "    if dataDict[key] > daysSince:\n",
    "        datesGreaterDaysSinceList.append(key)\n",
    "        nCasesGreaterDaysSinceList.append(dataDict[key])\n",
    "nCasesGreaterDaysSinceList[-1]"
   ]
  },
  {
   "cell_type": "code",
   "execution_count": 8,
   "metadata": {},
   "outputs": [],
   "source": [
    "# Get time series for cases > 100 only\n",
    "daysSince = 100\n",
    "nCasesGreaterDaysSinceList = []\n",
    "datesGreaterDaysSinceList = []\n",
    "\n",
    "for key in dataDict.keys():\n",
    "    if dataDict[key] > daysSince:\n",
    "        datesGreaterDaysSinceList.append(key)\n",
    "        nCasesGreaterDaysSinceList.append(dataDict[key])\n",
    "\n",
    "XList, yList = split_sequence(nCasesGreaterDaysSinceList, nDaysMin, k)"
   ]
  },
  {
   "cell_type": "code",
   "execution_count": 9,
   "metadata": {},
   "outputs": [
    {
     "data": {
      "text/plain": [
       "[12058.0]"
      ]
     },
     "execution_count": 9,
     "metadata": {},
     "output_type": "execute_result"
    }
   ],
   "source": [
    "def getPredictions(X, nDaysInFuture=5, invertible=False, pdqTuple = (1, 2, 2)):\n",
    "    p, d, q = pdqTuple\n",
    "    predList = []\n",
    "    Xcopy = X.copy()\n",
    "    for i in range(nDaysInFuture):\n",
    "        if invertible:\n",
    "            model = SARIMAX(Xcopy, order=(p, d, q))\n",
    "\n",
    "            model_fit = model.fit(disp=False)\n",
    "\n",
    "            # make prediction\n",
    "            yhat = model_fit.predict(len(Xcopy), len(Xcopy), typ='levels')\n",
    "        else:\n",
    "            model = SARIMAX(Xcopy, order=(p, d, q), enforce_invertibility=False)\n",
    "\n",
    "            model_fit = model.fit(disp=False)\n",
    "\n",
    "            # make prediction\n",
    "            yhat = model_fit.predict(len(Xcopy), len(Xcopy), typ='levels')\n",
    "        Xcopy = np.append(Xcopy, yhat)\n",
    "        predList.append(np.around(yhat[0]))\n",
    "        \n",
    "    return predList\n",
    "getPredictions(XList[0], nDaysInFuture=k, pdqTuple=pdqTupleGlobal)"
   ]
  },
  {
   "cell_type": "code",
   "execution_count": 10,
   "metadata": {},
   "outputs": [],
   "source": [
    "yPredsList = []\n",
    "for X, y in zip(XList, yList):\n",
    "    yPred = getPredictions(X, nDaysInFuture=k, pdqTuple=pdqTupleGlobal)\n",
    "    yPredsList.append(yPred)\n",
    "#     print(X, y, yPred)"
   ]
  },
  {
   "cell_type": "code",
   "execution_count": 11,
   "metadata": {},
   "outputs": [
    {
     "name": "stdout",
     "output_type": "stream",
     "text": [
      "kMAPE: 0.18328873108728028\n",
      "kMdSA: 0.15495738259889702\n"
     ]
    }
   ],
   "source": [
    "MAPE = meanAbsolutePercentageError_kDay(yList[-10:], yPredsList[-10:])\n",
    "print('kMAPE:', MAPE)\n",
    "MdSA = medianSymmetricAccuracy_kDay(yList[-10:], yPredsList[-10:])\n",
    "print('kMdSA:', MdSA)"
   ]
  },
  {
   "cell_type": "code",
   "execution_count": 12,
   "metadata": {},
   "outputs": [],
   "source": [
    "# # Evaluate metrics\n",
    "# MAPEList = []\n",
    "# MFEList = []\n",
    "# MAEList = []\n",
    "# MSEList = []\n",
    "# RMSEList = []\n",
    "# MdSAList = []\n",
    "# for yPredList, yTrueList in zip(yPredsList, yList):\n",
    "#     MAPEList.append(meanAbsolutePercentageError(yTrueList, yPredList))\n",
    "#     MFEList.append(meanForecastError(yTrueList, yPredList))\n",
    "#     MAEList.append(meanAbsoluteError(yTrueList, yPredList))\n",
    "#     MSEList.append(meanSquaredError(yTrueList, yPredList))\n",
    "#     RMSEList.append(rootMeanSquaredError(yTrueList, yPredList))\n",
    "#     MdSAList.append(medianSymmetricAccuracy(yTrueList, yPredList))"
   ]
  },
  {
   "cell_type": "code",
   "execution_count": 13,
   "metadata": {},
   "outputs": [],
   "source": [
    "# print('Mean of MAPE:', np.mean(MAPEList[2:]))\n",
    "# print('Mean of MFE:', np.mean(MFEList[2:]))\n",
    "# print('Mean of MAE:', np.mean(MAEList[2:]))\n",
    "# print('Mean of MSE:', np.mean(MSEList[2:]))\n",
    "# print('Mean of RMSE:', np.mean(RMSEList[2:]))\n",
    "# print('Mean of MdSA:', np.mean(MdSAList[2:]))"
   ]
  },
  {
   "cell_type": "code",
   "execution_count": 14,
   "metadata": {},
   "outputs": [],
   "source": [
    "# # Test Evaluation metric functions\n",
    "# print('Mean Absolute Percentage Error:', meanAbsolutePercentageError([1, 2], [0.5, 2.5]))\n",
    "# print('Mean Forecast Error or Forecast Bias:', meanForecastError([1,2], [0.5,2.5]))\n",
    "# print('Mean Absolute Error:', meanAbsoluteError([1,2], [0.5,2.5]))\n",
    "# print('Mean Squared Error:', meanSquaredError([1,2], [0.5,2.5]))\n",
    "# print('Root Mean Squared Error:', rootMeanSquaredError([1,2], [0.5,2.5]))"
   ]
  },
  {
   "cell_type": "code",
   "execution_count": null,
   "metadata": {},
   "outputs": [],
   "source": []
  },
  {
   "cell_type": "code",
   "execution_count": null,
   "metadata": {},
   "outputs": [],
   "source": []
  }
 ],
 "metadata": {
  "kernelspec": {
   "display_name": "Python 3",
   "language": "python",
   "name": "python3"
  },
  "language_info": {
   "codemirror_mode": {
    "name": "ipython",
    "version": 3
   },
   "file_extension": ".py",
   "mimetype": "text/x-python",
   "name": "python",
   "nbconvert_exporter": "python",
   "pygments_lexer": "ipython3",
   "version": "3.7.7"
  }
 },
 "nbformat": 4,
 "nbformat_minor": 2
}
